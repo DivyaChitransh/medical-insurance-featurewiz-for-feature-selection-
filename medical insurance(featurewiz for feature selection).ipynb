{
 "cells": [
  {
   "cell_type": "code",
   "execution_count": 1,
   "id": "26a0f1f1",
   "metadata": {},
   "outputs": [],
   "source": [
    "import numpy as np\n",
    "import pandas as pd\n",
    "import matplotlib.pyplot as plt\n",
    "import seaborn as sns\n",
    "from sklearn.model_selection import train_test_split\n",
    "from sklearn.linear_model import LinearRegression\n",
    "from sklearn import metrics"
   ]
  },
  {
   "cell_type": "markdown",
   "id": "578450f3",
   "metadata": {},
   "source": [
    "Data collection and analysis"
   ]
  },
  {
   "cell_type": "code",
   "execution_count": 2,
   "id": "d41056c4",
   "metadata": {},
   "outputs": [],
   "source": [
    "# loading the data from csv file to a Pandas DataFrame\n",
    "insurance_dataset = pd.read_csv('insurance.csv')"
   ]
  },
  {
   "cell_type": "code",
   "execution_count": 3,
   "id": "d2bb232d",
   "metadata": {},
   "outputs": [
    {
     "data": {
      "text/html": [
       "<div>\n",
       "<style scoped>\n",
       "    .dataframe tbody tr th:only-of-type {\n",
       "        vertical-align: middle;\n",
       "    }\n",
       "\n",
       "    .dataframe tbody tr th {\n",
       "        vertical-align: top;\n",
       "    }\n",
       "\n",
       "    .dataframe thead th {\n",
       "        text-align: right;\n",
       "    }\n",
       "</style>\n",
       "<table border=\"1\" class=\"dataframe\">\n",
       "  <thead>\n",
       "    <tr style=\"text-align: right;\">\n",
       "      <th></th>\n",
       "      <th>age</th>\n",
       "      <th>sex</th>\n",
       "      <th>bmi</th>\n",
       "      <th>children</th>\n",
       "      <th>smoker</th>\n",
       "      <th>region</th>\n",
       "      <th>charges</th>\n",
       "    </tr>\n",
       "  </thead>\n",
       "  <tbody>\n",
       "    <tr>\n",
       "      <th>0</th>\n",
       "      <td>19</td>\n",
       "      <td>female</td>\n",
       "      <td>27.900</td>\n",
       "      <td>0</td>\n",
       "      <td>yes</td>\n",
       "      <td>southwest</td>\n",
       "      <td>16884.92400</td>\n",
       "    </tr>\n",
       "    <tr>\n",
       "      <th>1</th>\n",
       "      <td>18</td>\n",
       "      <td>male</td>\n",
       "      <td>33.770</td>\n",
       "      <td>1</td>\n",
       "      <td>no</td>\n",
       "      <td>southeast</td>\n",
       "      <td>1725.55230</td>\n",
       "    </tr>\n",
       "    <tr>\n",
       "      <th>2</th>\n",
       "      <td>28</td>\n",
       "      <td>male</td>\n",
       "      <td>33.000</td>\n",
       "      <td>3</td>\n",
       "      <td>no</td>\n",
       "      <td>southeast</td>\n",
       "      <td>4449.46200</td>\n",
       "    </tr>\n",
       "    <tr>\n",
       "      <th>3</th>\n",
       "      <td>33</td>\n",
       "      <td>male</td>\n",
       "      <td>22.705</td>\n",
       "      <td>0</td>\n",
       "      <td>no</td>\n",
       "      <td>northwest</td>\n",
       "      <td>21984.47061</td>\n",
       "    </tr>\n",
       "    <tr>\n",
       "      <th>4</th>\n",
       "      <td>32</td>\n",
       "      <td>male</td>\n",
       "      <td>28.880</td>\n",
       "      <td>0</td>\n",
       "      <td>no</td>\n",
       "      <td>northwest</td>\n",
       "      <td>3866.85520</td>\n",
       "    </tr>\n",
       "  </tbody>\n",
       "</table>\n",
       "</div>"
      ],
      "text/plain": [
       "   age     sex     bmi  children smoker     region      charges\n",
       "0   19  female  27.900         0    yes  southwest  16884.92400\n",
       "1   18    male  33.770         1     no  southeast   1725.55230\n",
       "2   28    male  33.000         3     no  southeast   4449.46200\n",
       "3   33    male  22.705         0     no  northwest  21984.47061\n",
       "4   32    male  28.880         0     no  northwest   3866.85520"
      ]
     },
     "execution_count": 3,
     "metadata": {},
     "output_type": "execute_result"
    }
   ],
   "source": [
    "# first 5 rows of the dataframe\n",
    "insurance_dataset.head()"
   ]
  },
  {
   "cell_type": "code",
   "execution_count": 4,
   "id": "7fcd6b21",
   "metadata": {},
   "outputs": [
    {
     "data": {
      "text/plain": [
       "(1338, 7)"
      ]
     },
     "execution_count": 4,
     "metadata": {},
     "output_type": "execute_result"
    }
   ],
   "source": [
    "# number of rows and columns\n",
    "insurance_dataset.shape"
   ]
  },
  {
   "cell_type": "code",
   "execution_count": 5,
   "id": "105a6e63",
   "metadata": {},
   "outputs": [
    {
     "name": "stdout",
     "output_type": "stream",
     "text": [
      "<class 'pandas.core.frame.DataFrame'>\n",
      "RangeIndex: 1338 entries, 0 to 1337\n",
      "Data columns (total 7 columns):\n",
      " #   Column    Non-Null Count  Dtype  \n",
      "---  ------    --------------  -----  \n",
      " 0   age       1338 non-null   int64  \n",
      " 1   sex       1338 non-null   object \n",
      " 2   bmi       1338 non-null   float64\n",
      " 3   children  1338 non-null   int64  \n",
      " 4   smoker    1338 non-null   object \n",
      " 5   region    1338 non-null   object \n",
      " 6   charges   1338 non-null   float64\n",
      "dtypes: float64(2), int64(2), object(3)\n",
      "memory usage: 73.3+ KB\n"
     ]
    }
   ],
   "source": [
    "# getting some informations about the dataset\n",
    "insurance_dataset.info()"
   ]
  },
  {
   "cell_type": "code",
   "execution_count": 6,
   "id": "b583db1f",
   "metadata": {},
   "outputs": [
    {
     "data": {
      "text/plain": [
       "age         0\n",
       "sex         0\n",
       "bmi         0\n",
       "children    0\n",
       "smoker      0\n",
       "region      0\n",
       "charges     0\n",
       "dtype: int64"
      ]
     },
     "execution_count": 6,
     "metadata": {},
     "output_type": "execute_result"
    }
   ],
   "source": [
    "# checking for missing values\n",
    "insurance_dataset.isnull().sum()"
   ]
  },
  {
   "cell_type": "code",
   "execution_count": 7,
   "id": "d49b9146",
   "metadata": {},
   "outputs": [
    {
     "data": {
      "text/html": [
       "<div>\n",
       "<style scoped>\n",
       "    .dataframe tbody tr th:only-of-type {\n",
       "        vertical-align: middle;\n",
       "    }\n",
       "\n",
       "    .dataframe tbody tr th {\n",
       "        vertical-align: top;\n",
       "    }\n",
       "\n",
       "    .dataframe thead th {\n",
       "        text-align: right;\n",
       "    }\n",
       "</style>\n",
       "<table border=\"1\" class=\"dataframe\">\n",
       "  <thead>\n",
       "    <tr style=\"text-align: right;\">\n",
       "      <th></th>\n",
       "      <th>age</th>\n",
       "      <th>bmi</th>\n",
       "      <th>children</th>\n",
       "      <th>charges</th>\n",
       "    </tr>\n",
       "  </thead>\n",
       "  <tbody>\n",
       "    <tr>\n",
       "      <th>count</th>\n",
       "      <td>1338.000000</td>\n",
       "      <td>1338.000000</td>\n",
       "      <td>1338.000000</td>\n",
       "      <td>1338.000000</td>\n",
       "    </tr>\n",
       "    <tr>\n",
       "      <th>mean</th>\n",
       "      <td>39.207025</td>\n",
       "      <td>30.663397</td>\n",
       "      <td>1.094918</td>\n",
       "      <td>13270.422265</td>\n",
       "    </tr>\n",
       "    <tr>\n",
       "      <th>std</th>\n",
       "      <td>14.049960</td>\n",
       "      <td>6.098187</td>\n",
       "      <td>1.205493</td>\n",
       "      <td>12110.011237</td>\n",
       "    </tr>\n",
       "    <tr>\n",
       "      <th>min</th>\n",
       "      <td>18.000000</td>\n",
       "      <td>15.960000</td>\n",
       "      <td>0.000000</td>\n",
       "      <td>1121.873900</td>\n",
       "    </tr>\n",
       "    <tr>\n",
       "      <th>25%</th>\n",
       "      <td>27.000000</td>\n",
       "      <td>26.296250</td>\n",
       "      <td>0.000000</td>\n",
       "      <td>4740.287150</td>\n",
       "    </tr>\n",
       "    <tr>\n",
       "      <th>50%</th>\n",
       "      <td>39.000000</td>\n",
       "      <td>30.400000</td>\n",
       "      <td>1.000000</td>\n",
       "      <td>9382.033000</td>\n",
       "    </tr>\n",
       "    <tr>\n",
       "      <th>75%</th>\n",
       "      <td>51.000000</td>\n",
       "      <td>34.693750</td>\n",
       "      <td>2.000000</td>\n",
       "      <td>16639.912515</td>\n",
       "    </tr>\n",
       "    <tr>\n",
       "      <th>max</th>\n",
       "      <td>64.000000</td>\n",
       "      <td>53.130000</td>\n",
       "      <td>5.000000</td>\n",
       "      <td>63770.428010</td>\n",
       "    </tr>\n",
       "  </tbody>\n",
       "</table>\n",
       "</div>"
      ],
      "text/plain": [
       "               age          bmi     children       charges\n",
       "count  1338.000000  1338.000000  1338.000000   1338.000000\n",
       "mean     39.207025    30.663397     1.094918  13270.422265\n",
       "std      14.049960     6.098187     1.205493  12110.011237\n",
       "min      18.000000    15.960000     0.000000   1121.873900\n",
       "25%      27.000000    26.296250     0.000000   4740.287150\n",
       "50%      39.000000    30.400000     1.000000   9382.033000\n",
       "75%      51.000000    34.693750     2.000000  16639.912515\n",
       "max      64.000000    53.130000     5.000000  63770.428010"
      ]
     },
     "execution_count": 7,
     "metadata": {},
     "output_type": "execute_result"
    }
   ],
   "source": [
    "# statistical Measures of the dataset\n",
    "insurance_dataset.describe()"
   ]
  },
  {
   "cell_type": "code",
   "execution_count": 8,
   "id": "ac67c2a1",
   "metadata": {},
   "outputs": [
    {
     "data": {
      "text/html": [
       "<div>\n",
       "<style scoped>\n",
       "    .dataframe tbody tr th:only-of-type {\n",
       "        vertical-align: middle;\n",
       "    }\n",
       "\n",
       "    .dataframe tbody tr th {\n",
       "        vertical-align: top;\n",
       "    }\n",
       "\n",
       "    .dataframe thead th {\n",
       "        text-align: right;\n",
       "    }\n",
       "</style>\n",
       "<table border=\"1\" class=\"dataframe\">\n",
       "  <thead>\n",
       "    <tr style=\"text-align: right;\">\n",
       "      <th></th>\n",
       "      <th>sex</th>\n",
       "      <th>smoker</th>\n",
       "      <th>region</th>\n",
       "    </tr>\n",
       "  </thead>\n",
       "  <tbody>\n",
       "    <tr>\n",
       "      <th>0</th>\n",
       "      <td>female</td>\n",
       "      <td>yes</td>\n",
       "      <td>southwest</td>\n",
       "    </tr>\n",
       "    <tr>\n",
       "      <th>1</th>\n",
       "      <td>male</td>\n",
       "      <td>no</td>\n",
       "      <td>southeast</td>\n",
       "    </tr>\n",
       "    <tr>\n",
       "      <th>2</th>\n",
       "      <td>male</td>\n",
       "      <td>no</td>\n",
       "      <td>southeast</td>\n",
       "    </tr>\n",
       "    <tr>\n",
       "      <th>3</th>\n",
       "      <td>male</td>\n",
       "      <td>no</td>\n",
       "      <td>northwest</td>\n",
       "    </tr>\n",
       "    <tr>\n",
       "      <th>4</th>\n",
       "      <td>male</td>\n",
       "      <td>no</td>\n",
       "      <td>northwest</td>\n",
       "    </tr>\n",
       "    <tr>\n",
       "      <th>...</th>\n",
       "      <td>...</td>\n",
       "      <td>...</td>\n",
       "      <td>...</td>\n",
       "    </tr>\n",
       "    <tr>\n",
       "      <th>1333</th>\n",
       "      <td>male</td>\n",
       "      <td>no</td>\n",
       "      <td>northwest</td>\n",
       "    </tr>\n",
       "    <tr>\n",
       "      <th>1334</th>\n",
       "      <td>female</td>\n",
       "      <td>no</td>\n",
       "      <td>northeast</td>\n",
       "    </tr>\n",
       "    <tr>\n",
       "      <th>1335</th>\n",
       "      <td>female</td>\n",
       "      <td>no</td>\n",
       "      <td>southeast</td>\n",
       "    </tr>\n",
       "    <tr>\n",
       "      <th>1336</th>\n",
       "      <td>female</td>\n",
       "      <td>no</td>\n",
       "      <td>southwest</td>\n",
       "    </tr>\n",
       "    <tr>\n",
       "      <th>1337</th>\n",
       "      <td>female</td>\n",
       "      <td>yes</td>\n",
       "      <td>northwest</td>\n",
       "    </tr>\n",
       "  </tbody>\n",
       "</table>\n",
       "<p>1338 rows × 3 columns</p>\n",
       "</div>"
      ],
      "text/plain": [
       "         sex smoker     region\n",
       "0     female    yes  southwest\n",
       "1       male     no  southeast\n",
       "2       male     no  southeast\n",
       "3       male     no  northwest\n",
       "4       male     no  northwest\n",
       "...      ...    ...        ...\n",
       "1333    male     no  northwest\n",
       "1334  female     no  northeast\n",
       "1335  female     no  southeast\n",
       "1336  female     no  southwest\n",
       "1337  female    yes  northwest\n",
       "\n",
       "[1338 rows x 3 columns]"
      ]
     },
     "execution_count": 8,
     "metadata": {},
     "output_type": "execute_result"
    }
   ],
   "source": [
    "df1=insurance_dataset.select_dtypes(include=['object'])\n",
    "df1"
   ]
  },
  {
   "cell_type": "code",
   "execution_count": 9,
   "id": "94cd2c7c",
   "metadata": {},
   "outputs": [],
   "source": [
    "df2=insurance_dataset.select_dtypes(include=['int64','float64'])\n",
    "df2=df2.drop('children',axis=1)"
   ]
  },
  {
   "cell_type": "code",
   "execution_count": 10,
   "id": "11c53027",
   "metadata": {},
   "outputs": [],
   "source": [
    "x1=df2.drop('charges',axis=1)\n",
    "y1=df2['charges']"
   ]
  },
  {
   "cell_type": "code",
   "execution_count": 11,
   "id": "d5b041f5",
   "metadata": {},
   "outputs": [
    {
     "data": {
      "text/plain": [
       "array([[0.02173913, 0.3212268 ],\n",
       "       [0.        , 0.47914985],\n",
       "       [0.2173913 , 0.45843422],\n",
       "       ...,\n",
       "       [0.        , 0.56201238],\n",
       "       [0.06521739, 0.26472962],\n",
       "       [0.93478261, 0.35270379]])"
      ]
     },
     "execution_count": 11,
     "metadata": {},
     "output_type": "execute_result"
    }
   ],
   "source": [
    "from sklearn.preprocessing import MinMaxScaler\n",
    "mscaler=MinMaxScaler()\n",
    "scaled_data=mscaler.fit_transform(x1)\n",
    "scaled_data"
   ]
  },
  {
   "cell_type": "code",
   "execution_count": 12,
   "id": "2bb44289",
   "metadata": {},
   "outputs": [],
   "source": [
    "x1_columns=x1.columns"
   ]
  },
  {
   "cell_type": "code",
   "execution_count": 13,
   "id": "4ccbecc6",
   "metadata": {},
   "outputs": [
    {
     "data": {
      "text/html": [
       "<div>\n",
       "<style scoped>\n",
       "    .dataframe tbody tr th:only-of-type {\n",
       "        vertical-align: middle;\n",
       "    }\n",
       "\n",
       "    .dataframe tbody tr th {\n",
       "        vertical-align: top;\n",
       "    }\n",
       "\n",
       "    .dataframe thead th {\n",
       "        text-align: right;\n",
       "    }\n",
       "</style>\n",
       "<table border=\"1\" class=\"dataframe\">\n",
       "  <thead>\n",
       "    <tr style=\"text-align: right;\">\n",
       "      <th></th>\n",
       "      <th>age</th>\n",
       "      <th>bmi</th>\n",
       "    </tr>\n",
       "  </thead>\n",
       "  <tbody>\n",
       "    <tr>\n",
       "      <th>0</th>\n",
       "      <td>0.021739</td>\n",
       "      <td>0.321227</td>\n",
       "    </tr>\n",
       "    <tr>\n",
       "      <th>1</th>\n",
       "      <td>0.000000</td>\n",
       "      <td>0.479150</td>\n",
       "    </tr>\n",
       "    <tr>\n",
       "      <th>2</th>\n",
       "      <td>0.217391</td>\n",
       "      <td>0.458434</td>\n",
       "    </tr>\n",
       "    <tr>\n",
       "      <th>3</th>\n",
       "      <td>0.326087</td>\n",
       "      <td>0.181464</td>\n",
       "    </tr>\n",
       "    <tr>\n",
       "      <th>4</th>\n",
       "      <td>0.304348</td>\n",
       "      <td>0.347592</td>\n",
       "    </tr>\n",
       "    <tr>\n",
       "      <th>...</th>\n",
       "      <td>...</td>\n",
       "      <td>...</td>\n",
       "    </tr>\n",
       "    <tr>\n",
       "      <th>1333</th>\n",
       "      <td>0.695652</td>\n",
       "      <td>0.403820</td>\n",
       "    </tr>\n",
       "    <tr>\n",
       "      <th>1334</th>\n",
       "      <td>0.000000</td>\n",
       "      <td>0.429379</td>\n",
       "    </tr>\n",
       "    <tr>\n",
       "      <th>1335</th>\n",
       "      <td>0.000000</td>\n",
       "      <td>0.562012</td>\n",
       "    </tr>\n",
       "    <tr>\n",
       "      <th>1336</th>\n",
       "      <td>0.065217</td>\n",
       "      <td>0.264730</td>\n",
       "    </tr>\n",
       "    <tr>\n",
       "      <th>1337</th>\n",
       "      <td>0.934783</td>\n",
       "      <td>0.352704</td>\n",
       "    </tr>\n",
       "  </tbody>\n",
       "</table>\n",
       "<p>1338 rows × 2 columns</p>\n",
       "</div>"
      ],
      "text/plain": [
       "           age       bmi\n",
       "0     0.021739  0.321227\n",
       "1     0.000000  0.479150\n",
       "2     0.217391  0.458434\n",
       "3     0.326087  0.181464\n",
       "4     0.304348  0.347592\n",
       "...        ...       ...\n",
       "1333  0.695652  0.403820\n",
       "1334  0.000000  0.429379\n",
       "1335  0.000000  0.562012\n",
       "1336  0.065217  0.264730\n",
       "1337  0.934783  0.352704\n",
       "\n",
       "[1338 rows x 2 columns]"
      ]
     },
     "execution_count": 13,
     "metadata": {},
     "output_type": "execute_result"
    }
   ],
   "source": [
    "df2_new=pd.DataFrame(scaled_data,columns=x1_columns).reset_index(drop='index')\n",
    "df2_new"
   ]
  },
  {
   "cell_type": "code",
   "execution_count": 14,
   "id": "5fa51f1f",
   "metadata": {},
   "outputs": [
    {
     "data": {
      "text/html": [
       "<div>\n",
       "<style scoped>\n",
       "    .dataframe tbody tr th:only-of-type {\n",
       "        vertical-align: middle;\n",
       "    }\n",
       "\n",
       "    .dataframe tbody tr th {\n",
       "        vertical-align: top;\n",
       "    }\n",
       "\n",
       "    .dataframe thead th {\n",
       "        text-align: right;\n",
       "    }\n",
       "</style>\n",
       "<table border=\"1\" class=\"dataframe\">\n",
       "  <thead>\n",
       "    <tr style=\"text-align: right;\">\n",
       "      <th></th>\n",
       "      <th>age</th>\n",
       "      <th>bmi</th>\n",
       "      <th>charges</th>\n",
       "    </tr>\n",
       "  </thead>\n",
       "  <tbody>\n",
       "    <tr>\n",
       "      <th>0</th>\n",
       "      <td>0.021739</td>\n",
       "      <td>0.321227</td>\n",
       "      <td>16884.92400</td>\n",
       "    </tr>\n",
       "    <tr>\n",
       "      <th>1</th>\n",
       "      <td>0.000000</td>\n",
       "      <td>0.479150</td>\n",
       "      <td>1725.55230</td>\n",
       "    </tr>\n",
       "    <tr>\n",
       "      <th>2</th>\n",
       "      <td>0.217391</td>\n",
       "      <td>0.458434</td>\n",
       "      <td>4449.46200</td>\n",
       "    </tr>\n",
       "    <tr>\n",
       "      <th>3</th>\n",
       "      <td>0.326087</td>\n",
       "      <td>0.181464</td>\n",
       "      <td>21984.47061</td>\n",
       "    </tr>\n",
       "    <tr>\n",
       "      <th>4</th>\n",
       "      <td>0.304348</td>\n",
       "      <td>0.347592</td>\n",
       "      <td>3866.85520</td>\n",
       "    </tr>\n",
       "    <tr>\n",
       "      <th>...</th>\n",
       "      <td>...</td>\n",
       "      <td>...</td>\n",
       "      <td>...</td>\n",
       "    </tr>\n",
       "    <tr>\n",
       "      <th>1333</th>\n",
       "      <td>0.695652</td>\n",
       "      <td>0.403820</td>\n",
       "      <td>10600.54830</td>\n",
       "    </tr>\n",
       "    <tr>\n",
       "      <th>1334</th>\n",
       "      <td>0.000000</td>\n",
       "      <td>0.429379</td>\n",
       "      <td>2205.98080</td>\n",
       "    </tr>\n",
       "    <tr>\n",
       "      <th>1335</th>\n",
       "      <td>0.000000</td>\n",
       "      <td>0.562012</td>\n",
       "      <td>1629.83350</td>\n",
       "    </tr>\n",
       "    <tr>\n",
       "      <th>1336</th>\n",
       "      <td>0.065217</td>\n",
       "      <td>0.264730</td>\n",
       "      <td>2007.94500</td>\n",
       "    </tr>\n",
       "    <tr>\n",
       "      <th>1337</th>\n",
       "      <td>0.934783</td>\n",
       "      <td>0.352704</td>\n",
       "      <td>29141.36030</td>\n",
       "    </tr>\n",
       "  </tbody>\n",
       "</table>\n",
       "<p>1338 rows × 3 columns</p>\n",
       "</div>"
      ],
      "text/plain": [
       "           age       bmi      charges\n",
       "0     0.021739  0.321227  16884.92400\n",
       "1     0.000000  0.479150   1725.55230\n",
       "2     0.217391  0.458434   4449.46200\n",
       "3     0.326087  0.181464  21984.47061\n",
       "4     0.304348  0.347592   3866.85520\n",
       "...        ...       ...          ...\n",
       "1333  0.695652  0.403820  10600.54830\n",
       "1334  0.000000  0.429379   2205.98080\n",
       "1335  0.000000  0.562012   1629.83350\n",
       "1336  0.065217  0.264730   2007.94500\n",
       "1337  0.934783  0.352704  29141.36030\n",
       "\n",
       "[1338 rows x 3 columns]"
      ]
     },
     "execution_count": 14,
     "metadata": {},
     "output_type": "execute_result"
    }
   ],
   "source": [
    "df2_new1=pd.concat([df2_new,y1],axis=1)\n",
    "df2_new1"
   ]
  },
  {
   "cell_type": "code",
   "execution_count": 15,
   "id": "3d069e12",
   "metadata": {},
   "outputs": [
    {
     "data": {
      "text/html": [
       "<div>\n",
       "<style scoped>\n",
       "    .dataframe tbody tr th:only-of-type {\n",
       "        vertical-align: middle;\n",
       "    }\n",
       "\n",
       "    .dataframe tbody tr th {\n",
       "        vertical-align: top;\n",
       "    }\n",
       "\n",
       "    .dataframe thead th {\n",
       "        text-align: right;\n",
       "    }\n",
       "</style>\n",
       "<table border=\"1\" class=\"dataframe\">\n",
       "  <thead>\n",
       "    <tr style=\"text-align: right;\">\n",
       "      <th></th>\n",
       "      <th>sex</th>\n",
       "      <th>smoker</th>\n",
       "      <th>region</th>\n",
       "    </tr>\n",
       "  </thead>\n",
       "  <tbody>\n",
       "    <tr>\n",
       "      <th>0</th>\n",
       "      <td>0</td>\n",
       "      <td>0</td>\n",
       "      <td>0</td>\n",
       "    </tr>\n",
       "    <tr>\n",
       "      <th>1</th>\n",
       "      <td>1</td>\n",
       "      <td>1</td>\n",
       "      <td>1</td>\n",
       "    </tr>\n",
       "    <tr>\n",
       "      <th>2</th>\n",
       "      <td>1</td>\n",
       "      <td>1</td>\n",
       "      <td>1</td>\n",
       "    </tr>\n",
       "    <tr>\n",
       "      <th>3</th>\n",
       "      <td>1</td>\n",
       "      <td>1</td>\n",
       "      <td>2</td>\n",
       "    </tr>\n",
       "    <tr>\n",
       "      <th>4</th>\n",
       "      <td>1</td>\n",
       "      <td>1</td>\n",
       "      <td>2</td>\n",
       "    </tr>\n",
       "    <tr>\n",
       "      <th>...</th>\n",
       "      <td>...</td>\n",
       "      <td>...</td>\n",
       "      <td>...</td>\n",
       "    </tr>\n",
       "    <tr>\n",
       "      <th>1333</th>\n",
       "      <td>1</td>\n",
       "      <td>1</td>\n",
       "      <td>2</td>\n",
       "    </tr>\n",
       "    <tr>\n",
       "      <th>1334</th>\n",
       "      <td>0</td>\n",
       "      <td>1</td>\n",
       "      <td>3</td>\n",
       "    </tr>\n",
       "    <tr>\n",
       "      <th>1335</th>\n",
       "      <td>0</td>\n",
       "      <td>1</td>\n",
       "      <td>1</td>\n",
       "    </tr>\n",
       "    <tr>\n",
       "      <th>1336</th>\n",
       "      <td>0</td>\n",
       "      <td>1</td>\n",
       "      <td>0</td>\n",
       "    </tr>\n",
       "    <tr>\n",
       "      <th>1337</th>\n",
       "      <td>0</td>\n",
       "      <td>0</td>\n",
       "      <td>2</td>\n",
       "    </tr>\n",
       "  </tbody>\n",
       "</table>\n",
       "<p>1338 rows × 3 columns</p>\n",
       "</div>"
      ],
      "text/plain": [
       "      sex  smoker  region\n",
       "0       0       0       0\n",
       "1       1       1       1\n",
       "2       1       1       1\n",
       "3       1       1       2\n",
       "4       1       1       2\n",
       "...   ...     ...     ...\n",
       "1333    1       1       2\n",
       "1334    0       1       3\n",
       "1335    0       1       1\n",
       "1336    0       1       0\n",
       "1337    0       0       2\n",
       "\n",
       "[1338 rows x 3 columns]"
      ]
     },
     "execution_count": 15,
     "metadata": {},
     "output_type": "execute_result"
    }
   ],
   "source": [
    "df3=df1.apply(lambda x:pd.factorize(x)[0])\n",
    "df3"
   ]
  },
  {
   "cell_type": "code",
   "execution_count": 16,
   "id": "f369794f",
   "metadata": {},
   "outputs": [
    {
     "data": {
      "text/html": [
       "<div>\n",
       "<style scoped>\n",
       "    .dataframe tbody tr th:only-of-type {\n",
       "        vertical-align: middle;\n",
       "    }\n",
       "\n",
       "    .dataframe tbody tr th {\n",
       "        vertical-align: top;\n",
       "    }\n",
       "\n",
       "    .dataframe thead th {\n",
       "        text-align: right;\n",
       "    }\n",
       "</style>\n",
       "<table border=\"1\" class=\"dataframe\">\n",
       "  <thead>\n",
       "    <tr style=\"text-align: right;\">\n",
       "      <th></th>\n",
       "      <th>sex</th>\n",
       "      <th>smoker</th>\n",
       "      <th>region</th>\n",
       "      <th>age</th>\n",
       "      <th>bmi</th>\n",
       "      <th>charges</th>\n",
       "    </tr>\n",
       "  </thead>\n",
       "  <tbody>\n",
       "    <tr>\n",
       "      <th>0</th>\n",
       "      <td>0</td>\n",
       "      <td>0</td>\n",
       "      <td>0</td>\n",
       "      <td>0.021739</td>\n",
       "      <td>0.321227</td>\n",
       "      <td>16884.92400</td>\n",
       "    </tr>\n",
       "    <tr>\n",
       "      <th>1</th>\n",
       "      <td>1</td>\n",
       "      <td>1</td>\n",
       "      <td>1</td>\n",
       "      <td>0.000000</td>\n",
       "      <td>0.479150</td>\n",
       "      <td>1725.55230</td>\n",
       "    </tr>\n",
       "    <tr>\n",
       "      <th>2</th>\n",
       "      <td>1</td>\n",
       "      <td>1</td>\n",
       "      <td>1</td>\n",
       "      <td>0.217391</td>\n",
       "      <td>0.458434</td>\n",
       "      <td>4449.46200</td>\n",
       "    </tr>\n",
       "    <tr>\n",
       "      <th>3</th>\n",
       "      <td>1</td>\n",
       "      <td>1</td>\n",
       "      <td>2</td>\n",
       "      <td>0.326087</td>\n",
       "      <td>0.181464</td>\n",
       "      <td>21984.47061</td>\n",
       "    </tr>\n",
       "    <tr>\n",
       "      <th>4</th>\n",
       "      <td>1</td>\n",
       "      <td>1</td>\n",
       "      <td>2</td>\n",
       "      <td>0.304348</td>\n",
       "      <td>0.347592</td>\n",
       "      <td>3866.85520</td>\n",
       "    </tr>\n",
       "    <tr>\n",
       "      <th>...</th>\n",
       "      <td>...</td>\n",
       "      <td>...</td>\n",
       "      <td>...</td>\n",
       "      <td>...</td>\n",
       "      <td>...</td>\n",
       "      <td>...</td>\n",
       "    </tr>\n",
       "    <tr>\n",
       "      <th>1333</th>\n",
       "      <td>1</td>\n",
       "      <td>1</td>\n",
       "      <td>2</td>\n",
       "      <td>0.695652</td>\n",
       "      <td>0.403820</td>\n",
       "      <td>10600.54830</td>\n",
       "    </tr>\n",
       "    <tr>\n",
       "      <th>1334</th>\n",
       "      <td>0</td>\n",
       "      <td>1</td>\n",
       "      <td>3</td>\n",
       "      <td>0.000000</td>\n",
       "      <td>0.429379</td>\n",
       "      <td>2205.98080</td>\n",
       "    </tr>\n",
       "    <tr>\n",
       "      <th>1335</th>\n",
       "      <td>0</td>\n",
       "      <td>1</td>\n",
       "      <td>1</td>\n",
       "      <td>0.000000</td>\n",
       "      <td>0.562012</td>\n",
       "      <td>1629.83350</td>\n",
       "    </tr>\n",
       "    <tr>\n",
       "      <th>1336</th>\n",
       "      <td>0</td>\n",
       "      <td>1</td>\n",
       "      <td>0</td>\n",
       "      <td>0.065217</td>\n",
       "      <td>0.264730</td>\n",
       "      <td>2007.94500</td>\n",
       "    </tr>\n",
       "    <tr>\n",
       "      <th>1337</th>\n",
       "      <td>0</td>\n",
       "      <td>0</td>\n",
       "      <td>2</td>\n",
       "      <td>0.934783</td>\n",
       "      <td>0.352704</td>\n",
       "      <td>29141.36030</td>\n",
       "    </tr>\n",
       "  </tbody>\n",
       "</table>\n",
       "<p>1338 rows × 6 columns</p>\n",
       "</div>"
      ],
      "text/plain": [
       "      sex  smoker  region       age       bmi      charges\n",
       "0       0       0       0  0.021739  0.321227  16884.92400\n",
       "1       1       1       1  0.000000  0.479150   1725.55230\n",
       "2       1       1       1  0.217391  0.458434   4449.46200\n",
       "3       1       1       2  0.326087  0.181464  21984.47061\n",
       "4       1       1       2  0.304348  0.347592   3866.85520\n",
       "...   ...     ...     ...       ...       ...          ...\n",
       "1333    1       1       2  0.695652  0.403820  10600.54830\n",
       "1334    0       1       3  0.000000  0.429379   2205.98080\n",
       "1335    0       1       1  0.000000  0.562012   1629.83350\n",
       "1336    0       1       0  0.065217  0.264730   2007.94500\n",
       "1337    0       0       2  0.934783  0.352704  29141.36030\n",
       "\n",
       "[1338 rows x 6 columns]"
      ]
     },
     "execution_count": 16,
     "metadata": {},
     "output_type": "execute_result"
    }
   ],
   "source": [
    "df4=pd.concat([df3,df2_new1],axis=1)\n",
    "df4"
   ]
  },
  {
   "cell_type": "code",
   "execution_count": 17,
   "id": "9438db97",
   "metadata": {},
   "outputs": [
    {
     "data": {
      "text/html": [
       "<div>\n",
       "<style scoped>\n",
       "    .dataframe tbody tr th:only-of-type {\n",
       "        vertical-align: middle;\n",
       "    }\n",
       "\n",
       "    .dataframe tbody tr th {\n",
       "        vertical-align: top;\n",
       "    }\n",
       "\n",
       "    .dataframe thead th {\n",
       "        text-align: right;\n",
       "    }\n",
       "</style>\n",
       "<table border=\"1\" class=\"dataframe\">\n",
       "  <thead>\n",
       "    <tr style=\"text-align: right;\">\n",
       "      <th></th>\n",
       "      <th>sex</th>\n",
       "      <th>smoker</th>\n",
       "      <th>age</th>\n",
       "      <th>bmi</th>\n",
       "      <th>charges</th>\n",
       "    </tr>\n",
       "  </thead>\n",
       "  <tbody>\n",
       "    <tr>\n",
       "      <th>0</th>\n",
       "      <td>0</td>\n",
       "      <td>0</td>\n",
       "      <td>0.021739</td>\n",
       "      <td>0.321227</td>\n",
       "      <td>16884.92400</td>\n",
       "    </tr>\n",
       "    <tr>\n",
       "      <th>1</th>\n",
       "      <td>1</td>\n",
       "      <td>1</td>\n",
       "      <td>0.000000</td>\n",
       "      <td>0.479150</td>\n",
       "      <td>1725.55230</td>\n",
       "    </tr>\n",
       "    <tr>\n",
       "      <th>2</th>\n",
       "      <td>1</td>\n",
       "      <td>1</td>\n",
       "      <td>0.217391</td>\n",
       "      <td>0.458434</td>\n",
       "      <td>4449.46200</td>\n",
       "    </tr>\n",
       "    <tr>\n",
       "      <th>3</th>\n",
       "      <td>1</td>\n",
       "      <td>1</td>\n",
       "      <td>0.326087</td>\n",
       "      <td>0.181464</td>\n",
       "      <td>21984.47061</td>\n",
       "    </tr>\n",
       "    <tr>\n",
       "      <th>4</th>\n",
       "      <td>1</td>\n",
       "      <td>1</td>\n",
       "      <td>0.304348</td>\n",
       "      <td>0.347592</td>\n",
       "      <td>3866.85520</td>\n",
       "    </tr>\n",
       "    <tr>\n",
       "      <th>...</th>\n",
       "      <td>...</td>\n",
       "      <td>...</td>\n",
       "      <td>...</td>\n",
       "      <td>...</td>\n",
       "      <td>...</td>\n",
       "    </tr>\n",
       "    <tr>\n",
       "      <th>1333</th>\n",
       "      <td>1</td>\n",
       "      <td>1</td>\n",
       "      <td>0.695652</td>\n",
       "      <td>0.403820</td>\n",
       "      <td>10600.54830</td>\n",
       "    </tr>\n",
       "    <tr>\n",
       "      <th>1334</th>\n",
       "      <td>0</td>\n",
       "      <td>1</td>\n",
       "      <td>0.000000</td>\n",
       "      <td>0.429379</td>\n",
       "      <td>2205.98080</td>\n",
       "    </tr>\n",
       "    <tr>\n",
       "      <th>1335</th>\n",
       "      <td>0</td>\n",
       "      <td>1</td>\n",
       "      <td>0.000000</td>\n",
       "      <td>0.562012</td>\n",
       "      <td>1629.83350</td>\n",
       "    </tr>\n",
       "    <tr>\n",
       "      <th>1336</th>\n",
       "      <td>0</td>\n",
       "      <td>1</td>\n",
       "      <td>0.065217</td>\n",
       "      <td>0.264730</td>\n",
       "      <td>2007.94500</td>\n",
       "    </tr>\n",
       "    <tr>\n",
       "      <th>1337</th>\n",
       "      <td>0</td>\n",
       "      <td>0</td>\n",
       "      <td>0.934783</td>\n",
       "      <td>0.352704</td>\n",
       "      <td>29141.36030</td>\n",
       "    </tr>\n",
       "  </tbody>\n",
       "</table>\n",
       "<p>1338 rows × 5 columns</p>\n",
       "</div>"
      ],
      "text/plain": [
       "      sex  smoker       age       bmi      charges\n",
       "0       0       0  0.021739  0.321227  16884.92400\n",
       "1       1       1  0.000000  0.479150   1725.55230\n",
       "2       1       1  0.217391  0.458434   4449.46200\n",
       "3       1       1  0.326087  0.181464  21984.47061\n",
       "4       1       1  0.304348  0.347592   3866.85520\n",
       "...   ...     ...       ...       ...          ...\n",
       "1333    1       1  0.695652  0.403820  10600.54830\n",
       "1334    0       1  0.000000  0.429379   2205.98080\n",
       "1335    0       1  0.000000  0.562012   1629.83350\n",
       "1336    0       1  0.065217  0.264730   2007.94500\n",
       "1337    0       0  0.934783  0.352704  29141.36030\n",
       "\n",
       "[1338 rows x 5 columns]"
      ]
     },
     "execution_count": 17,
     "metadata": {},
     "output_type": "execute_result"
    }
   ],
   "source": [
    "df4=df4.drop('region',axis=1)\n",
    "df4"
   ]
  },
  {
   "cell_type": "code",
   "execution_count": 18,
   "id": "9d561b1c",
   "metadata": {},
   "outputs": [],
   "source": [
    "x2=df4.drop('charges',axis=1)\n",
    "y2=df4['charges']"
   ]
  },
  {
   "cell_type": "code",
   "execution_count": 19,
   "id": "3360bb97",
   "metadata": {},
   "outputs": [
    {
     "name": "stderr",
     "output_type": "stream",
     "text": [
      "C:\\Users\\DIVYA CHITRANSH\\anaconda3\\lib\\site-packages\\seaborn\\distributions.py:2619: FutureWarning: `distplot` is a deprecated function and will be removed in a future version. Please adapt your code to use either `displot` (a figure-level function with similar flexibility) or `histplot` (an axes-level function for histograms).\n",
      "  warnings.warn(msg, FutureWarning)\n",
      "C:\\Users\\DIVYA CHITRANSH\\anaconda3\\lib\\site-packages\\seaborn\\distributions.py:2619: FutureWarning: `distplot` is a deprecated function and will be removed in a future version. Please adapt your code to use either `displot` (a figure-level function with similar flexibility) or `histplot` (an axes-level function for histograms).\n",
      "  warnings.warn(msg, FutureWarning)\n",
      "C:\\Users\\DIVYA CHITRANSH\\anaconda3\\lib\\site-packages\\seaborn\\distributions.py:2619: FutureWarning: `distplot` is a deprecated function and will be removed in a future version. Please adapt your code to use either `displot` (a figure-level function with similar flexibility) or `histplot` (an axes-level function for histograms).\n",
      "  warnings.warn(msg, FutureWarning)\n",
      "C:\\Users\\DIVYA CHITRANSH\\anaconda3\\lib\\site-packages\\seaborn\\distributions.py:2619: FutureWarning: `distplot` is a deprecated function and will be removed in a future version. Please adapt your code to use either `displot` (a figure-level function with similar flexibility) or `histplot` (an axes-level function for histograms).\n",
      "  warnings.warn(msg, FutureWarning)\n"
     ]
    },
    {
     "data": {
      "image/png": "[encoded data removed]",
      "text/plain": [
       "<Figure size 432x288 with 4 Axes>"
      ]
     },
     "metadata": {
      "needs_background": "light"
     },
     "output_type": "display_data"
    }
   ],
   "source": [
    "# Define the number of rows and columns you want\n",
    "n_rows=2\n",
    "n_cols=2\n",
    "# Create the subplots\n",
    "fig, axes = plt.subplots(nrows=n_rows, ncols=n_cols)\n",
    "for i, column in enumerate(x2.columns):\n",
    "    sns.distplot(x2[column],ax=axes[i//n_cols,i%n_cols])"
   ]
  },
  {
   "cell_type": "code",
   "execution_count": 20,
   "id": "9afbb4ac",
   "metadata": {},
   "outputs": [
    {
     "name": "stdout",
     "output_type": "stream",
     "text": [
      "Statistic for sex: 0.6365700960159302, P-Value: 0.0\n",
      "Statistic for smoker: 0.4950445890426636, P-Value: 0.0\n",
      "Statistic for age: 0.9446991682052612, P-Value: 5.687479624670986e-22\n",
      "Statistic for bmi: 0.9938869476318359, P-Value: 2.606953239592258e-05\n"
     ]
    }
   ],
   "source": [
    "from scipy import stats\n",
    "for col in x2.columns:\n",
    "    stat, p_value = stats.shapiro(x2[col])\n",
    "    print(f'Statistic for {col}: {stat}, P-Value: {p_value}')"
   ]
  },
  {
   "cell_type": "markdown",
   "id": "190b6099",
   "metadata": {},
   "source": [
    "Only age and bmi are close to normal distribution and all of them has p vallue <0.5 means the hypothesisi they follow normal distribution is rejected so we have to convert them to normal dist."
   ]
  },
  {
   "cell_type": "code",
   "execution_count": 21,
   "id": "89d02607",
   "metadata": {},
   "outputs": [
    {
     "data": {
      "text/plain": [
       "array([[0.        , 0.        , 0.07657658, 0.3427272 ],\n",
       "       [1.        , 1.        , 0.        , 0.7047047 ],\n",
       "       [1.        , 1.        , 0.28078078, 0.65715716],\n",
       "       ...,\n",
       "       [0.        , 1.        , 0.        , 0.83983984],\n",
       "       [0.        , 1.        , 0.13463463, 0.22522523],\n",
       "       [0.        , 0.        , 0.94094094, 0.42011834]])"
      ]
     },
     "execution_count": 21,
     "metadata": {},
     "output_type": "execute_result"
    }
   ],
   "source": [
    "from sklearn.preprocessing import QuantileTransformer\n",
    "quant=QuantileTransformer()\n",
    "x2_transformed=quant.fit_transform(x2)\n",
    "x2_transformed"
   ]
  },
  {
   "cell_type": "code",
   "execution_count": 22,
   "id": "660921d1",
   "metadata": {},
   "outputs": [
    {
     "data": {
      "text/html": [
       "<div>\n",
       "<style scoped>\n",
       "    .dataframe tbody tr th:only-of-type {\n",
       "        vertical-align: middle;\n",
       "    }\n",
       "\n",
       "    .dataframe tbody tr th {\n",
       "        vertical-align: top;\n",
       "    }\n",
       "\n",
       "    .dataframe thead th {\n",
       "        text-align: right;\n",
       "    }\n",
       "</style>\n",
       "<table border=\"1\" class=\"dataframe\">\n",
       "  <thead>\n",
       "    <tr style=\"text-align: right;\">\n",
       "      <th></th>\n",
       "      <th>sex</th>\n",
       "      <th>smoker</th>\n",
       "      <th>age</th>\n",
       "      <th>bmi</th>\n",
       "    </tr>\n",
       "  </thead>\n",
       "  <tbody>\n",
       "    <tr>\n",
       "      <th>0</th>\n",
       "      <td>0.0</td>\n",
       "      <td>0.0</td>\n",
       "      <td>0.076577</td>\n",
       "      <td>0.342727</td>\n",
       "    </tr>\n",
       "    <tr>\n",
       "      <th>1</th>\n",
       "      <td>1.0</td>\n",
       "      <td>1.0</td>\n",
       "      <td>0.000000</td>\n",
       "      <td>0.704705</td>\n",
       "    </tr>\n",
       "    <tr>\n",
       "      <th>2</th>\n",
       "      <td>1.0</td>\n",
       "      <td>1.0</td>\n",
       "      <td>0.280781</td>\n",
       "      <td>0.657157</td>\n",
       "    </tr>\n",
       "    <tr>\n",
       "      <th>3</th>\n",
       "      <td>1.0</td>\n",
       "      <td>1.0</td>\n",
       "      <td>0.381381</td>\n",
       "      <td>0.092092</td>\n",
       "    </tr>\n",
       "    <tr>\n",
       "      <th>4</th>\n",
       "      <td>1.0</td>\n",
       "      <td>1.0</td>\n",
       "      <td>0.361361</td>\n",
       "      <td>0.404404</td>\n",
       "    </tr>\n",
       "    <tr>\n",
       "      <th>...</th>\n",
       "      <td>...</td>\n",
       "      <td>...</td>\n",
       "      <td>...</td>\n",
       "      <td>...</td>\n",
       "    </tr>\n",
       "    <tr>\n",
       "      <th>1333</th>\n",
       "      <td>1.0</td>\n",
       "      <td>1.0</td>\n",
       "      <td>0.723223</td>\n",
       "      <td>0.539401</td>\n",
       "    </tr>\n",
       "    <tr>\n",
       "      <th>1334</th>\n",
       "      <td>0.0</td>\n",
       "      <td>1.0</td>\n",
       "      <td>0.000000</td>\n",
       "      <td>0.594595</td>\n",
       "    </tr>\n",
       "    <tr>\n",
       "      <th>1335</th>\n",
       "      <td>0.0</td>\n",
       "      <td>1.0</td>\n",
       "      <td>0.000000</td>\n",
       "      <td>0.839840</td>\n",
       "    </tr>\n",
       "    <tr>\n",
       "      <th>1336</th>\n",
       "      <td>0.0</td>\n",
       "      <td>1.0</td>\n",
       "      <td>0.134635</td>\n",
       "      <td>0.225225</td>\n",
       "    </tr>\n",
       "    <tr>\n",
       "      <th>1337</th>\n",
       "      <td>0.0</td>\n",
       "      <td>0.0</td>\n",
       "      <td>0.940941</td>\n",
       "      <td>0.420118</td>\n",
       "    </tr>\n",
       "  </tbody>\n",
       "</table>\n",
       "<p>1338 rows × 4 columns</p>\n",
       "</div>"
      ],
      "text/plain": [
       "      sex  smoker       age       bmi\n",
       "0     0.0     0.0  0.076577  0.342727\n",
       "1     1.0     1.0  0.000000  0.704705\n",
       "2     1.0     1.0  0.280781  0.657157\n",
       "3     1.0     1.0  0.381381  0.092092\n",
       "4     1.0     1.0  0.361361  0.404404\n",
       "...   ...     ...       ...       ...\n",
       "1333  1.0     1.0  0.723223  0.539401\n",
       "1334  0.0     1.0  0.000000  0.594595\n",
       "1335  0.0     1.0  0.000000  0.839840\n",
       "1336  0.0     1.0  0.134635  0.225225\n",
       "1337  0.0     0.0  0.940941  0.420118\n",
       "\n",
       "[1338 rows x 4 columns]"
      ]
     },
     "execution_count": 22,
     "metadata": {},
     "output_type": "execute_result"
    }
   ],
   "source": [
    "x2_transformed_df=pd.DataFrame(x2_transformed,columns=x2.columns).reset_index(drop='index')\n",
    "x2_transformed_df"
   ]
  },
  {
   "cell_type": "code",
   "execution_count": 23,
   "id": "92ce920e",
   "metadata": {},
   "outputs": [
    {
     "data": {
      "text/html": [
       "<div>\n",
       "<style scoped>\n",
       "    .dataframe tbody tr th:only-of-type {\n",
       "        vertical-align: middle;\n",
       "    }\n",
       "\n",
       "    .dataframe tbody tr th {\n",
       "        vertical-align: top;\n",
       "    }\n",
       "\n",
       "    .dataframe thead th {\n",
       "        text-align: right;\n",
       "    }\n",
       "</style>\n",
       "<table border=\"1\" class=\"dataframe\">\n",
       "  <thead>\n",
       "    <tr style=\"text-align: right;\">\n",
       "      <th></th>\n",
       "      <th>sex</th>\n",
       "      <th>smoker</th>\n",
       "      <th>age</th>\n",
       "      <th>bmi</th>\n",
       "      <th>children</th>\n",
       "      <th>region</th>\n",
       "    </tr>\n",
       "  </thead>\n",
       "  <tbody>\n",
       "    <tr>\n",
       "      <th>0</th>\n",
       "      <td>0.0</td>\n",
       "      <td>0.0</td>\n",
       "      <td>0.076577</td>\n",
       "      <td>0.342727</td>\n",
       "      <td>0</td>\n",
       "      <td>0</td>\n",
       "    </tr>\n",
       "    <tr>\n",
       "      <th>1</th>\n",
       "      <td>1.0</td>\n",
       "      <td>1.0</td>\n",
       "      <td>0.000000</td>\n",
       "      <td>0.704705</td>\n",
       "      <td>1</td>\n",
       "      <td>1</td>\n",
       "    </tr>\n",
       "    <tr>\n",
       "      <th>2</th>\n",
       "      <td>1.0</td>\n",
       "      <td>1.0</td>\n",
       "      <td>0.280781</td>\n",
       "      <td>0.657157</td>\n",
       "      <td>3</td>\n",
       "      <td>1</td>\n",
       "    </tr>\n",
       "    <tr>\n",
       "      <th>3</th>\n",
       "      <td>1.0</td>\n",
       "      <td>1.0</td>\n",
       "      <td>0.381381</td>\n",
       "      <td>0.092092</td>\n",
       "      <td>0</td>\n",
       "      <td>2</td>\n",
       "    </tr>\n",
       "    <tr>\n",
       "      <th>4</th>\n",
       "      <td>1.0</td>\n",
       "      <td>1.0</td>\n",
       "      <td>0.361361</td>\n",
       "      <td>0.404404</td>\n",
       "      <td>0</td>\n",
       "      <td>2</td>\n",
       "    </tr>\n",
       "    <tr>\n",
       "      <th>...</th>\n",
       "      <td>...</td>\n",
       "      <td>...</td>\n",
       "      <td>...</td>\n",
       "      <td>...</td>\n",
       "      <td>...</td>\n",
       "      <td>...</td>\n",
       "    </tr>\n",
       "    <tr>\n",
       "      <th>1333</th>\n",
       "      <td>1.0</td>\n",
       "      <td>1.0</td>\n",
       "      <td>0.723223</td>\n",
       "      <td>0.539401</td>\n",
       "      <td>3</td>\n",
       "      <td>2</td>\n",
       "    </tr>\n",
       "    <tr>\n",
       "      <th>1334</th>\n",
       "      <td>0.0</td>\n",
       "      <td>1.0</td>\n",
       "      <td>0.000000</td>\n",
       "      <td>0.594595</td>\n",
       "      <td>0</td>\n",
       "      <td>3</td>\n",
       "    </tr>\n",
       "    <tr>\n",
       "      <th>1335</th>\n",
       "      <td>0.0</td>\n",
       "      <td>1.0</td>\n",
       "      <td>0.000000</td>\n",
       "      <td>0.839840</td>\n",
       "      <td>0</td>\n",
       "      <td>1</td>\n",
       "    </tr>\n",
       "    <tr>\n",
       "      <th>1336</th>\n",
       "      <td>0.0</td>\n",
       "      <td>1.0</td>\n",
       "      <td>0.134635</td>\n",
       "      <td>0.225225</td>\n",
       "      <td>0</td>\n",
       "      <td>0</td>\n",
       "    </tr>\n",
       "    <tr>\n",
       "      <th>1337</th>\n",
       "      <td>0.0</td>\n",
       "      <td>0.0</td>\n",
       "      <td>0.940941</td>\n",
       "      <td>0.420118</td>\n",
       "      <td>0</td>\n",
       "      <td>2</td>\n",
       "    </tr>\n",
       "  </tbody>\n",
       "</table>\n",
       "<p>1338 rows × 6 columns</p>\n",
       "</div>"
      ],
      "text/plain": [
       "      sex  smoker       age       bmi  children  region\n",
       "0     0.0     0.0  0.076577  0.342727         0       0\n",
       "1     1.0     1.0  0.000000  0.704705         1       1\n",
       "2     1.0     1.0  0.280781  0.657157         3       1\n",
       "3     1.0     1.0  0.381381  0.092092         0       2\n",
       "4     1.0     1.0  0.361361  0.404404         0       2\n",
       "...   ...     ...       ...       ...       ...     ...\n",
       "1333  1.0     1.0  0.723223  0.539401         3       2\n",
       "1334  0.0     1.0  0.000000  0.594595         0       3\n",
       "1335  0.0     1.0  0.000000  0.839840         0       1\n",
       "1336  0.0     1.0  0.134635  0.225225         0       0\n",
       "1337  0.0     0.0  0.940941  0.420118         0       2\n",
       "\n",
       "[1338 rows x 6 columns]"
      ]
     },
     "execution_count": 23,
     "metadata": {},
     "output_type": "execute_result"
    }
   ],
   "source": [
    "x2_transformed_df['children']=insurance_dataset['children']\n",
    "x2_transformed_df['region']=df3['region']\n",
    "x2_transformed_df"
   ]
  },
  {
   "cell_type": "code",
   "execution_count": 24,
   "id": "d7bf9e9c",
   "metadata": {},
   "outputs": [
    {
     "name": "stdout",
     "output_type": "stream",
     "text": [
      "<class 'pandas.core.frame.DataFrame'>\n",
      "RangeIndex: 1338 entries, 0 to 1337\n",
      "Data columns (total 6 columns):\n",
      " #   Column    Non-Null Count  Dtype  \n",
      "---  ------    --------------  -----  \n",
      " 0   sex       1338 non-null   float64\n",
      " 1   smoker    1338 non-null   float64\n",
      " 2   age       1338 non-null   float64\n",
      " 3   bmi       1338 non-null   float64\n",
      " 4   children  1338 non-null   int64  \n",
      " 5   region    1338 non-null   int64  \n",
      "dtypes: float64(4), int64(2)\n",
      "memory usage: 62.8 KB\n"
     ]
    }
   ],
   "source": [
    "x2_transformed_df.info()"
   ]
  },
  {
   "cell_type": "code",
   "execution_count": 25,
   "id": "cd8cd43f",
   "metadata": {},
   "outputs": [
    {
     "name": "stderr",
     "output_type": "stream",
     "text": [
      "C:\\Users\\DIVYA CHITRANSH\\anaconda3\\lib\\site-packages\\seaborn\\distributions.py:2619: FutureWarning: `distplot` is a deprecated function and will be removed in a future version. Please adapt your code to use either `displot` (a figure-level function with similar flexibility) or `histplot` (an axes-level function for histograms).\n",
      "  warnings.warn(msg, FutureWarning)\n",
      "C:\\Users\\DIVYA CHITRANSH\\anaconda3\\lib\\site-packages\\seaborn\\distributions.py:2619: FutureWarning: `distplot` is a deprecated function and will be removed in a future version. Please adapt your code to use either `displot` (a figure-level function with similar flexibility) or `histplot` (an axes-level function for histograms).\n",
      "  warnings.warn(msg, FutureWarning)\n",
      "C:\\Users\\DIVYA CHITRANSH\\anaconda3\\lib\\site-packages\\seaborn\\distributions.py:2619: FutureWarning: `distplot` is a deprecated function and will be removed in a future version. Please adapt your code to use either `displot` (a figure-level function with similar flexibility) or `histplot` (an axes-level function for histograms).\n",
      "  warnings.warn(msg, FutureWarning)\n",
      "C:\\Users\\DIVYA CHITRANSH\\anaconda3\\lib\\site-packages\\seaborn\\distributions.py:2619: FutureWarning: `distplot` is a deprecated function and will be removed in a future version. Please adapt your code to use either `displot` (a figure-level function with similar flexibility) or `histplot` (an axes-level function for histograms).\n",
      "  warnings.warn(msg, FutureWarning)\n",
      "C:\\Users\\DIVYA CHITRANSH\\anaconda3\\lib\\site-packages\\seaborn\\distributions.py:2619: FutureWarning: `distplot` is a deprecated function and will be removed in a future version. Please adapt your code to use either `displot` (a figure-level function with similar flexibility) or `histplot` (an axes-level function for histograms).\n",
      "  warnings.warn(msg, FutureWarning)\n",
      "C:\\Users\\DIVYA CHITRANSH\\anaconda3\\lib\\site-packages\\seaborn\\distributions.py:2619: FutureWarning: `distplot` is a deprecated function and will be removed in a future version. Please adapt your code to use either `displot` (a figure-level function with similar flexibility) or `histplot` (an axes-level function for histograms).\n",
      "  warnings.warn(msg, FutureWarning)\n"
     ]
    },
    {
     "data": {
      "image/png": "[encoded data removed]",
      "text/plain": [
       "<Figure size 432x288 with 6 Axes>"
      ]
     },
     "metadata": {
      "needs_background": "light"
     },
     "output_type": "display_data"
    }
   ],
   "source": [
    "# Define the number of rows and columns you want\n",
    "n_rows=2\n",
    "n_cols=3\n",
    "# Create the subplots\n",
    "fig, axes = plt.subplots(nrows=n_rows, ncols=n_cols)\n",
    "for i, column in enumerate(x2_transformed_df.columns):\n",
    "    sns.distplot(x2_transformed_df[column],ax=axes[i//n_cols,i%n_cols])"
   ]
  },
  {
   "cell_type": "code",
   "execution_count": 26,
   "id": "1ce499b2",
   "metadata": {},
   "outputs": [
    {
     "name": "stdout",
     "output_type": "stream",
     "text": [
      "Statistic for sex: 0.6365700960159302, P-Value: 0.0\n",
      "Statistic for smoker: 0.4950445890426636, P-Value: 0.0\n",
      "Statistic for age: 0.9565504193305969, P-Value: 1.6334469972934177e-19\n",
      "Statistic for bmi: 0.9548373818397522, P-Value: 6.753949088541078e-20\n",
      "Statistic for children: 0.8231803774833679, P-Value: 5.066361280494088e-36\n",
      "Statistic for region: 0.8594433069229126, P-Value: 5.870974576429252e-33\n"
     ]
    }
   ],
   "source": [
    "for col in x2_transformed_df.columns:\n",
    "    stat, p_value = stats.shapiro(x2_transformed_df[col])\n",
    "    print(f'Statistic for {col}: {stat}, P-Value: {p_value}')"
   ]
  },
  {
   "cell_type": "code",
   "execution_count": 27,
   "id": "6ccd247d",
   "metadata": {},
   "outputs": [],
   "source": [
    "x2_transformed_df.drop('bmi', axis=1)\n",
    "x2_transformed_df['bmi']=x2['bmi']"
   ]
  },
  {
   "cell_type": "code",
   "execution_count": 28,
   "id": "514ccb6f",
   "metadata": {},
   "outputs": [
    {
     "name": "stderr",
     "output_type": "stream",
     "text": [
      "C:\\Users\\DIVYA CHITRANSH\\anaconda3\\lib\\site-packages\\seaborn\\distributions.py:2619: FutureWarning: `distplot` is a deprecated function and will be removed in a future version. Please adapt your code to use either `displot` (a figure-level function with similar flexibility) or `histplot` (an axes-level function for histograms).\n",
      "  warnings.warn(msg, FutureWarning)\n",
      "C:\\Users\\DIVYA CHITRANSH\\anaconda3\\lib\\site-packages\\seaborn\\distributions.py:2619: FutureWarning: `distplot` is a deprecated function and will be removed in a future version. Please adapt your code to use either `displot` (a figure-level function with similar flexibility) or `histplot` (an axes-level function for histograms).\n",
      "  warnings.warn(msg, FutureWarning)\n",
      "C:\\Users\\DIVYA CHITRANSH\\anaconda3\\lib\\site-packages\\seaborn\\distributions.py:2619: FutureWarning: `distplot` is a deprecated function and will be removed in a future version. Please adapt your code to use either `displot` (a figure-level function with similar flexibility) or `histplot` (an axes-level function for histograms).\n",
      "  warnings.warn(msg, FutureWarning)\n",
      "C:\\Users\\DIVYA CHITRANSH\\anaconda3\\lib\\site-packages\\seaborn\\distributions.py:2619: FutureWarning: `distplot` is a deprecated function and will be removed in a future version. Please adapt your code to use either `displot` (a figure-level function with similar flexibility) or `histplot` (an axes-level function for histograms).\n",
      "  warnings.warn(msg, FutureWarning)\n",
      "C:\\Users\\DIVYA CHITRANSH\\anaconda3\\lib\\site-packages\\seaborn\\distributions.py:2619: FutureWarning: `distplot` is a deprecated function and will be removed in a future version. Please adapt your code to use either `displot` (a figure-level function with similar flexibility) or `histplot` (an axes-level function for histograms).\n",
      "  warnings.warn(msg, FutureWarning)\n",
      "C:\\Users\\DIVYA CHITRANSH\\anaconda3\\lib\\site-packages\\seaborn\\distributions.py:2619: FutureWarning: `distplot` is a deprecated function and will be removed in a future version. Please adapt your code to use either `displot` (a figure-level function with similar flexibility) or `histplot` (an axes-level function for histograms).\n",
      "  warnings.warn(msg, FutureWarning)\n"
     ]
    },
    {
     "data": {
      "image/png": "[encoded data removed]",
      "text/plain": [
       "<Figure size 432x288 with 6 Axes>"
      ]
     },
     "metadata": {
      "needs_background": "light"
     },
     "output_type": "display_data"
    }
   ],
   "source": [
    "# Define the number of rows and columns you want\n",
    "n_rows=2\n",
    "n_cols=3\n",
    "# Create the subplots\n",
    "fig, axes = plt.subplots(nrows=n_rows, ncols=n_cols)\n",
    "for i, column in enumerate(x2_transformed_df.columns):\n",
    "    sns.distplot(x2_transformed_df[column],ax=axes[i//n_cols,i%n_cols])"
   ]
  },
  {
   "cell_type": "code",
   "execution_count": 29,
   "id": "3dad9cea",
   "metadata": {},
   "outputs": [
    {
     "name": "stderr",
     "output_type": "stream",
     "text": [
      "C:\\Users\\DIVYA CHITRANSH\\anaconda3\\lib\\site-packages\\seaborn\\distributions.py:2619: FutureWarning: `distplot` is a deprecated function and will be removed in a future version. Please adapt your code to use either `displot` (a figure-level function with similar flexibility) or `histplot` (an axes-level function for histograms).\n",
      "  warnings.warn(msg, FutureWarning)\n"
     ]
    },
    {
     "data": {
      "image/png": "[encoded data removed]",
      "text/plain": [
       "<Figure size 432x432 with 1 Axes>"
      ]
     },
     "metadata": {},
     "output_type": "display_data"
    }
   ],
   "source": [
    "# distribution of age value\n",
    "sns.set()\n",
    "plt.figure(figsize=(6,6))\n",
    "sns.distplot(x2_transformed_df['age'])\n",
    "plt.title('Age Distribution')\n",
    "plt.show()"
   ]
  },
  {
   "cell_type": "code",
   "execution_count": 30,
   "id": "77b236e2",
   "metadata": {},
   "outputs": [
    {
     "data": {
      "image/png": "[encoded data removed]",
      "text/plain": [
       "<Figure size 432x432 with 1 Axes>"
      ]
     },
     "metadata": {},
     "output_type": "display_data"
    }
   ],
   "source": [
    "# Gender column\n",
    "plt.figure(figsize=(6,6))\n",
    "sns.countplot(x='sex', data=x2_transformed_df)# 0:female and 1:male\n",
    "plt.title('Sex Distribution')\n",
    "plt.show()"
   ]
  },
  {
   "cell_type": "code",
   "execution_count": 31,
   "id": "a9b36ca8",
   "metadata": {},
   "outputs": [
    {
     "data": {
      "text/plain": [
       "1.0    676\n",
       "0.0    662\n",
       "Name: sex, dtype: int64"
      ]
     },
     "execution_count": 31,
     "metadata": {},
     "output_type": "execute_result"
    }
   ],
   "source": [
    "x2_transformed_df['sex'].value_counts()"
   ]
  },
  {
   "cell_type": "code",
   "execution_count": 32,
   "id": "6dcac53b",
   "metadata": {},
   "outputs": [
    {
     "name": "stderr",
     "output_type": "stream",
     "text": [
      "C:\\Users\\DIVYA CHITRANSH\\anaconda3\\lib\\site-packages\\seaborn\\distributions.py:2619: FutureWarning: `distplot` is a deprecated function and will be removed in a future version. Please adapt your code to use either `displot` (a figure-level function with similar flexibility) or `histplot` (an axes-level function for histograms).\n",
      "  warnings.warn(msg, FutureWarning)\n"
     ]
    },
    {
     "data": {
      "image/png": "[encoded data removed]",
      "text/plain": [
       "<Figure size 432x432 with 1 Axes>"
      ]
     },
     "metadata": {},
     "output_type": "display_data"
    }
   ],
   "source": [
    "# bmi distribution\n",
    "plt.figure(figsize=(6,6))\n",
    "sns.distplot(x2_transformed_df['bmi'])\n",
    "plt.title('BMI Distribution')\n",
    "plt.show()"
   ]
  },
  {
   "cell_type": "code",
   "execution_count": 33,
   "id": "e3251cb4",
   "metadata": {},
   "outputs": [
    {
     "data": {
      "image/png": "[encoded data removed]",
      "text/plain": [
       "<Figure size 1440x432 with 1 Axes>"
      ]
     },
     "metadata": {},
     "output_type": "display_data"
    }
   ],
   "source": [
    "# children column\n",
    "plt.figure(figsize=(20,6))\n",
    "sns.countplot(x='children', data=x2_transformed_df)\n",
    "plt.title('Children')\n",
    "plt.show()"
   ]
  },
  {
   "cell_type": "code",
   "execution_count": 34,
   "id": "441644cc",
   "metadata": {},
   "outputs": [
    {
     "data": {
      "text/plain": [
       "0    574\n",
       "1    324\n",
       "2    240\n",
       "3    157\n",
       "4     25\n",
       "5     18\n",
       "Name: children, dtype: int64"
      ]
     },
     "execution_count": 34,
     "metadata": {},
     "output_type": "execute_result"
    }
   ],
   "source": [
    "x2_transformed_df['children'].value_counts()"
   ]
  },
  {
   "cell_type": "code",
   "execution_count": 35,
   "id": "408dddff",
   "metadata": {},
   "outputs": [
    {
     "data": {
      "image/png": "[encoded data removed]",
      "text/plain": [
       "<Figure size 432x432 with 1 Axes>"
      ]
     },
     "metadata": {},
     "output_type": "display_data"
    }
   ],
   "source": [
    "# smoker column\n",
    "plt.figure(figsize=(6,6))\n",
    "sns.countplot(x='smoker', data=x2_transformed_df)#0:yes and 1:no\n",
    "plt.title('smoker')\n",
    "plt.show()"
   ]
  },
  {
   "cell_type": "code",
   "execution_count": 36,
   "id": "349b394e",
   "metadata": {},
   "outputs": [
    {
     "data": {
      "text/plain": [
       "1.0    1064\n",
       "0.0     274\n",
       "Name: smoker, dtype: int64"
      ]
     },
     "execution_count": 36,
     "metadata": {},
     "output_type": "execute_result"
    }
   ],
   "source": [
    "x2_transformed_df['smoker'].value_counts()"
   ]
  },
  {
   "cell_type": "code",
   "execution_count": 37,
   "id": "3448d800",
   "metadata": {},
   "outputs": [
    {
     "data": {
      "image/png": "[encoded data removed]",
      "text/plain": [
       "<Figure size 432x432 with 1 Axes>"
      ]
     },
     "metadata": {},
     "output_type": "display_data"
    }
   ],
   "source": [
    "# region column\n",
    "plt.figure(figsize=(6,6))\n",
    "sns.countplot(x='region', data=insurance_dataset)\n",
    "plt.title('region')\n",
    "plt.show()"
   ]
  },
  {
   "cell_type": "code",
   "execution_count": 38,
   "id": "9edd73ed",
   "metadata": {},
   "outputs": [
    {
     "data": {
      "image/png": "[encoded data removed]",
      "text/plain": [
       "<Figure size 1440x432 with 1 Axes>"
      ]
     },
     "metadata": {},
     "output_type": "display_data"
    }
   ],
   "source": [
    "# region column\n",
    "plt.figure(figsize=(20,6))\n",
    "sns.countplot(x='region', data=x2_transformed_df)#0:southwest  1:southeast  2:northwest  3:northeast\n",
    "plt.title('region')\n",
    "plt.show()"
   ]
  },
  {
   "cell_type": "code",
   "execution_count": 39,
   "id": "13189bba",
   "metadata": {},
   "outputs": [
    {
     "data": {
      "text/plain": [
       "1    364\n",
       "0    325\n",
       "2    325\n",
       "3    324\n",
       "Name: region, dtype: int64"
      ]
     },
     "execution_count": 39,
     "metadata": {},
     "output_type": "execute_result"
    }
   ],
   "source": [
    "x2_transformed_df['region'].value_counts()"
   ]
  },
  {
   "cell_type": "code",
   "execution_count": 40,
   "id": "add2c615",
   "metadata": {},
   "outputs": [
    {
     "name": "stderr",
     "output_type": "stream",
     "text": [
      "C:\\Users\\DIVYA CHITRANSH\\anaconda3\\lib\\site-packages\\seaborn\\distributions.py:2619: FutureWarning: `distplot` is a deprecated function and will be removed in a future version. Please adapt your code to use either `displot` (a figure-level function with similar flexibility) or `histplot` (an axes-level function for histograms).\n",
      "  warnings.warn(msg, FutureWarning)\n"
     ]
    },
    {
     "data": {
      "image/png": "[encoded data removed]",
      "text/plain": [
       "<Figure size 432x432 with 1 Axes>"
      ]
     },
     "metadata": {},
     "output_type": "display_data"
    }
   ],
   "source": [
    "# distribution of charges value\n",
    "plt.figure(figsize=(6,6))\n",
    "sns.distplot(y2)# y2 has charges data\n",
    "plt.title('Charges Distribution')\n",
    "plt.show()"
   ]
  },
  {
   "cell_type": "markdown",
   "id": "ba7b2ae5",
   "metadata": {},
   "source": [
    "Data Pre-Processing and \n",
    "Encoding the categorical features"
   ]
  },
  {
   "cell_type": "markdown",
   "id": "86727567",
   "metadata": {},
   "source": [
    "Splitting the Features and Target"
   ]
  },
  {
   "cell_type": "code",
   "execution_count": 41,
   "id": "bbeb5885",
   "metadata": {},
   "outputs": [],
   "source": [
    "X = x2_transformed_df\n",
    "Y = y2"
   ]
  },
  {
   "cell_type": "code",
   "execution_count": 42,
   "id": "04371482",
   "metadata": {},
   "outputs": [],
   "source": [
    "X['smoker']=X['smoker'].astype(int)"
   ]
  },
  {
   "cell_type": "code",
   "execution_count": 43,
   "id": "dd300ded",
   "metadata": {},
   "outputs": [
    {
     "name": "stdout",
     "output_type": "stream",
     "text": [
      "<class 'pandas.core.frame.DataFrame'>\n",
      "RangeIndex: 1338 entries, 0 to 1337\n",
      "Data columns (total 6 columns):\n",
      " #   Column    Non-Null Count  Dtype  \n",
      "---  ------    --------------  -----  \n",
      " 0   sex       1338 non-null   float64\n",
      " 1   smoker    1338 non-null   int32  \n",
      " 2   age       1338 non-null   float64\n",
      " 3   bmi       1338 non-null   float64\n",
      " 4   children  1338 non-null   int64  \n",
      " 5   region    1338 non-null   int64  \n",
      "dtypes: float64(3), int32(1), int64(2)\n",
      "memory usage: 57.6 KB\n"
     ]
    }
   ],
   "source": [
    "X.info()"
   ]
  },
  {
   "cell_type": "code",
   "execution_count": 44,
   "id": "0d78feb7",
   "metadata": {},
   "outputs": [
    {
     "name": "stdout",
     "output_type": "stream",
     "text": [
      "      sex  smoker       age       bmi  children  region\n",
      "0     0.0       0  0.076577  0.321227         0       0\n",
      "1     1.0       1  0.000000  0.479150         1       1\n",
      "2     1.0       1  0.280781  0.458434         3       1\n",
      "3     1.0       1  0.381381  0.181464         0       2\n",
      "4     1.0       1  0.361361  0.347592         0       2\n",
      "...   ...     ...       ...       ...       ...     ...\n",
      "1333  1.0       1  0.723223  0.403820         3       2\n",
      "1334  0.0       1  0.000000  0.429379         0       3\n",
      "1335  0.0       1  0.000000  0.562012         0       1\n",
      "1336  0.0       1  0.134635  0.264730         0       0\n",
      "1337  0.0       0  0.940941  0.352704         0       2\n",
      "\n",
      "[1338 rows x 6 columns]\n"
     ]
    }
   ],
   "source": [
    "print(X)"
   ]
  },
  {
   "cell_type": "code",
   "execution_count": 45,
   "id": "37dd2943",
   "metadata": {},
   "outputs": [
    {
     "name": "stdout",
     "output_type": "stream",
     "text": [
      "0       16884.92400\n",
      "1        1725.55230\n",
      "2        4449.46200\n",
      "3       21984.47061\n",
      "4        3866.85520\n",
      "           ...     \n",
      "1333    10600.54830\n",
      "1334     2205.98080\n",
      "1335     1629.83350\n",
      "1336     2007.94500\n",
      "1337    29141.36030\n",
      "Name: charges, Length: 1338, dtype: float64\n"
     ]
    }
   ],
   "source": [
    "print(Y)"
   ]
  },
  {
   "cell_type": "markdown",
   "id": "71a846d9",
   "metadata": {},
   "source": [
    "Splitting the data into Training data & Testing Data"
   ]
  },
  {
   "cell_type": "code",
   "execution_count": 46,
   "id": "1f3f1b7f",
   "metadata": {},
   "outputs": [],
   "source": [
    "X_train, X_test, Y_train, Y_test = train_test_split(X, Y, test_size=0.2, random_state=2)"
   ]
  },
  {
   "cell_type": "code",
   "execution_count": 47,
   "id": "a72d19d4",
   "metadata": {},
   "outputs": [
    {
     "name": "stdout",
     "output_type": "stream",
     "text": [
      "(1338, 6) (1070, 6) (268, 6)\n"
     ]
    }
   ],
   "source": [
    "print(X.shape, X_train.shape, X_test.shape)"
   ]
  },
  {
   "cell_type": "code",
   "execution_count": 48,
   "id": "512ce541",
   "metadata": {},
   "outputs": [
    {
     "name": "stderr",
     "output_type": "stream",
     "text": [
      "C:\\Users\\DIVYA CHITRANSH\\anaconda3\\lib\\site-packages\\skfeature\\utility\\construct_W.py:194: FutureWarning: Support for multi-dimensional indexing (e.g. `obj[:, None]`) is deprecated and will be removed in a future version.  Convert to a numpy array before indexing instead.\n",
      "  class_idx_all = class_idx[:, np.newaxis] & class_idx[np.newaxis, :]\n"
     ]
    },
    {
     "ename": "ValueError",
     "evalue": "Length of values (1) does not match length of index (6)",
     "output_type": "error",
     "traceback": [
      "\u001b[1;31m---------------------------------------------------------------------------\u001b[0m",
      "\u001b[1;31mValueError\u001b[0m                                Traceback (most recent call last)",
      "Input \u001b[1;32mIn [48]\u001b[0m, in \u001b[0;36m<cell line: 2>\u001b[1;34m()\u001b[0m\n\u001b[0;32m      1\u001b[0m \u001b[38;5;28;01mfrom\u001b[39;00m \u001b[38;5;21;01mskfeature\u001b[39;00m\u001b[38;5;21;01m.\u001b[39;00m\u001b[38;5;21;01mfunction\u001b[39;00m\u001b[38;5;21;01m.\u001b[39;00m\u001b[38;5;21;01msimilarity_based\u001b[39;00m \u001b[38;5;28;01mimport\u001b[39;00m fisher_score\n\u001b[1;32m----> 2\u001b[0m ranks\u001b[38;5;241m=\u001b[39m\u001b[43mfisher_score\u001b[49m\u001b[38;5;241;43m.\u001b[39;49m\u001b[43mfisher_score\u001b[49m\u001b[43m(\u001b[49m\u001b[43mX\u001b[49m\u001b[43m,\u001b[49m\u001b[43mY\u001b[49m\u001b[43m)\u001b[49m\n\u001b[0;32m      3\u001b[0m feature_rank\u001b[38;5;241m=\u001b[39mpd\u001b[38;5;241m.\u001b[39mSeries(ranks,X\u001b[38;5;241m.\u001b[39mcolumns)\n\u001b[0;32m      4\u001b[0m plt\u001b[38;5;241m.\u001b[39mfigure(figsize\u001b[38;5;241m=\u001b[39m(\u001b[38;5;241m40\u001b[39m,\u001b[38;5;241m30\u001b[39m))\n",
      "File \u001b[1;32m~\\anaconda3\\lib\\site-packages\\skfeature\\function\\similarity_based\\fisher_score.py:51\u001b[0m, in \u001b[0;36mfisher_score\u001b[1;34m(X, y, mode)\u001b[0m\n\u001b[0;32m     49\u001b[0m t2 \u001b[38;5;241m=\u001b[39m np\u001b[38;5;241m.\u001b[39mtranspose(np\u001b[38;5;241m.\u001b[39mdot(Xt, L\u001b[38;5;241m.\u001b[39mtodense()))\n\u001b[0;32m     50\u001b[0m \u001b[38;5;66;03m# compute the numerator of Lr\u001b[39;00m\n\u001b[1;32m---> 51\u001b[0m D_prime \u001b[38;5;241m=\u001b[39m \u001b[43mnp\u001b[49m\u001b[38;5;241;43m.\u001b[39;49m\u001b[43msum\u001b[49m\u001b[43m(\u001b[49m\u001b[43mnp\u001b[49m\u001b[38;5;241;43m.\u001b[39;49m\u001b[43mmultiply\u001b[49m\u001b[43m(\u001b[49m\u001b[43mt1\u001b[49m\u001b[43m,\u001b[49m\u001b[43m \u001b[49m\u001b[43mX\u001b[49m\u001b[43m)\u001b[49m\u001b[43m,\u001b[49m\u001b[43m \u001b[49m\u001b[38;5;241;43m0\u001b[39;49m\u001b[43m)\u001b[49m\u001b[43m \u001b[49m\u001b[38;5;241;43m-\u001b[39;49m\u001b[43m \u001b[49m\u001b[43mnp\u001b[49m\u001b[38;5;241;43m.\u001b[39;49m\u001b[43mmultiply\u001b[49m\u001b[43m(\u001b[49m\u001b[43mtmp\u001b[49m\u001b[43m,\u001b[49m\u001b[43m \u001b[49m\u001b[43mtmp\u001b[49m\u001b[43m)\u001b[49m\u001b[43m \u001b[49m\u001b[38;5;241;43m/\u001b[39;49m\u001b[43m \u001b[49m\u001b[43mD\u001b[49m\u001b[38;5;241;43m.\u001b[39;49m\u001b[43msum\u001b[49m\u001b[43m(\u001b[49m\u001b[43m)\u001b[49m\n\u001b[0;32m     52\u001b[0m \u001b[38;5;66;03m# compute the denominator of Lr\u001b[39;00m\n\u001b[0;32m     53\u001b[0m L_prime \u001b[38;5;241m=\u001b[39m np\u001b[38;5;241m.\u001b[39msum(np\u001b[38;5;241m.\u001b[39mmultiply(t2, X), \u001b[38;5;241m0\u001b[39m) \u001b[38;5;241m-\u001b[39m np\u001b[38;5;241m.\u001b[39mmultiply(tmp, tmp) \u001b[38;5;241m/\u001b[39m D\u001b[38;5;241m.\u001b[39msum()\n",
      "File \u001b[1;32m~\\anaconda3\\lib\\site-packages\\pandas\\core\\ops\\common.py:70\u001b[0m, in \u001b[0;36m_unpack_zerodim_and_defer.<locals>.new_method\u001b[1;34m(self, other)\u001b[0m\n\u001b[0;32m     66\u001b[0m             \u001b[38;5;28;01mreturn\u001b[39;00m \u001b[38;5;28mNotImplemented\u001b[39m\n\u001b[0;32m     68\u001b[0m other \u001b[38;5;241m=\u001b[39m item_from_zerodim(other)\n\u001b[1;32m---> 70\u001b[0m \u001b[38;5;28;01mreturn\u001b[39;00m \u001b[43mmethod\u001b[49m\u001b[43m(\u001b[49m\u001b[38;5;28;43mself\u001b[39;49m\u001b[43m,\u001b[49m\u001b[43m \u001b[49m\u001b[43mother\u001b[49m\u001b[43m)\u001b[49m\n",
      "File \u001b[1;32m~\\anaconda3\\lib\\site-packages\\pandas\\core\\arraylike.py:108\u001b[0m, in \u001b[0;36mOpsMixin.__sub__\u001b[1;34m(self, other)\u001b[0m\n\u001b[0;32m    106\u001b[0m \u001b[38;5;129m@unpack_zerodim_and_defer\u001b[39m(\u001b[38;5;124m\"\u001b[39m\u001b[38;5;124m__sub__\u001b[39m\u001b[38;5;124m\"\u001b[39m)\n\u001b[0;32m    107\u001b[0m \u001b[38;5;28;01mdef\u001b[39;00m \u001b[38;5;21m__sub__\u001b[39m(\u001b[38;5;28mself\u001b[39m, other):\n\u001b[1;32m--> 108\u001b[0m     \u001b[38;5;28;01mreturn\u001b[39;00m \u001b[38;5;28;43mself\u001b[39;49m\u001b[38;5;241;43m.\u001b[39;49m\u001b[43m_arith_method\u001b[49m\u001b[43m(\u001b[49m\u001b[43mother\u001b[49m\u001b[43m,\u001b[49m\u001b[43m \u001b[49m\u001b[43moperator\u001b[49m\u001b[38;5;241;43m.\u001b[39;49m\u001b[43msub\u001b[49m\u001b[43m)\u001b[49m\n",
      "File \u001b[1;32m~\\anaconda3\\lib\\site-packages\\pandas\\core\\series.py:5639\u001b[0m, in \u001b[0;36mSeries._arith_method\u001b[1;34m(self, other, op)\u001b[0m\n\u001b[0;32m   5637\u001b[0m \u001b[38;5;28;01mdef\u001b[39;00m \u001b[38;5;21m_arith_method\u001b[39m(\u001b[38;5;28mself\u001b[39m, other, op):\n\u001b[0;32m   5638\u001b[0m     \u001b[38;5;28mself\u001b[39m, other \u001b[38;5;241m=\u001b[39m ops\u001b[38;5;241m.\u001b[39malign_method_SERIES(\u001b[38;5;28mself\u001b[39m, other)\n\u001b[1;32m-> 5639\u001b[0m     \u001b[38;5;28;01mreturn\u001b[39;00m \u001b[43mbase\u001b[49m\u001b[38;5;241;43m.\u001b[39;49m\u001b[43mIndexOpsMixin\u001b[49m\u001b[38;5;241;43m.\u001b[39;49m\u001b[43m_arith_method\u001b[49m\u001b[43m(\u001b[49m\u001b[38;5;28;43mself\u001b[39;49m\u001b[43m,\u001b[49m\u001b[43m \u001b[49m\u001b[43mother\u001b[49m\u001b[43m,\u001b[49m\u001b[43m \u001b[49m\u001b[43mop\u001b[49m\u001b[43m)\u001b[49m\n",
      "File \u001b[1;32m~\\anaconda3\\lib\\site-packages\\pandas\\core\\base.py:1297\u001b[0m, in \u001b[0;36mIndexOpsMixin._arith_method\u001b[1;34m(self, other, op)\u001b[0m\n\u001b[0;32m   1294\u001b[0m \u001b[38;5;28;01mwith\u001b[39;00m np\u001b[38;5;241m.\u001b[39merrstate(\u001b[38;5;28mall\u001b[39m\u001b[38;5;241m=\u001b[39m\u001b[38;5;124m\"\u001b[39m\u001b[38;5;124mignore\u001b[39m\u001b[38;5;124m\"\u001b[39m):\n\u001b[0;32m   1295\u001b[0m     result \u001b[38;5;241m=\u001b[39m ops\u001b[38;5;241m.\u001b[39marithmetic_op(lvalues, rvalues, op)\n\u001b[1;32m-> 1297\u001b[0m \u001b[38;5;28;01mreturn\u001b[39;00m \u001b[38;5;28;43mself\u001b[39;49m\u001b[38;5;241;43m.\u001b[39;49m\u001b[43m_construct_result\u001b[49m\u001b[43m(\u001b[49m\u001b[43mresult\u001b[49m\u001b[43m,\u001b[49m\u001b[43m \u001b[49m\u001b[43mname\u001b[49m\u001b[38;5;241;43m=\u001b[39;49m\u001b[43mres_name\u001b[49m\u001b[43m)\u001b[49m\n",
      "File \u001b[1;32m~\\anaconda3\\lib\\site-packages\\pandas\\core\\series.py:3017\u001b[0m, in \u001b[0;36mSeries._construct_result\u001b[1;34m(self, result, name)\u001b[0m\n\u001b[0;32m   3013\u001b[0m     \u001b[38;5;28;01mreturn\u001b[39;00m (res1, res2)\n\u001b[0;32m   3015\u001b[0m \u001b[38;5;66;03m# We do not pass dtype to ensure that the Series constructor\u001b[39;00m\n\u001b[0;32m   3016\u001b[0m \u001b[38;5;66;03m#  does inference in the case where `result` has object-dtype.\u001b[39;00m\n\u001b[1;32m-> 3017\u001b[0m out \u001b[38;5;241m=\u001b[39m \u001b[38;5;28;43mself\u001b[39;49m\u001b[38;5;241;43m.\u001b[39;49m\u001b[43m_constructor\u001b[49m\u001b[43m(\u001b[49m\u001b[43mresult\u001b[49m\u001b[43m,\u001b[49m\u001b[43m \u001b[49m\u001b[43mindex\u001b[49m\u001b[38;5;241;43m=\u001b[39;49m\u001b[38;5;28;43mself\u001b[39;49m\u001b[38;5;241;43m.\u001b[39;49m\u001b[43mindex\u001b[49m\u001b[43m)\u001b[49m\n\u001b[0;32m   3018\u001b[0m out \u001b[38;5;241m=\u001b[39m out\u001b[38;5;241m.\u001b[39m__finalize__(\u001b[38;5;28mself\u001b[39m)\n\u001b[0;32m   3020\u001b[0m \u001b[38;5;66;03m# Set the result's name after __finalize__ is called because __finalize__\u001b[39;00m\n\u001b[0;32m   3021\u001b[0m \u001b[38;5;66;03m#  would set it back to self.name\u001b[39;00m\n",
      "File \u001b[1;32m~\\anaconda3\\lib\\site-packages\\pandas\\core\\series.py:442\u001b[0m, in \u001b[0;36mSeries.__init__\u001b[1;34m(self, data, index, dtype, name, copy, fastpath)\u001b[0m\n\u001b[0;32m    440\u001b[0m     index \u001b[38;5;241m=\u001b[39m default_index(\u001b[38;5;28mlen\u001b[39m(data))\n\u001b[0;32m    441\u001b[0m \u001b[38;5;28;01melif\u001b[39;00m is_list_like(data):\n\u001b[1;32m--> 442\u001b[0m     \u001b[43mcom\u001b[49m\u001b[38;5;241;43m.\u001b[39;49m\u001b[43mrequire_length_match\u001b[49m\u001b[43m(\u001b[49m\u001b[43mdata\u001b[49m\u001b[43m,\u001b[49m\u001b[43m \u001b[49m\u001b[43mindex\u001b[49m\u001b[43m)\u001b[49m\n\u001b[0;32m    444\u001b[0m \u001b[38;5;66;03m# create/copy the manager\u001b[39;00m\n\u001b[0;32m    445\u001b[0m \u001b[38;5;28;01mif\u001b[39;00m \u001b[38;5;28misinstance\u001b[39m(data, (SingleBlockManager, SingleArrayManager)):\n",
      "File \u001b[1;32m~\\anaconda3\\lib\\site-packages\\pandas\\core\\common.py:557\u001b[0m, in \u001b[0;36mrequire_length_match\u001b[1;34m(data, index)\u001b[0m\n\u001b[0;32m    553\u001b[0m \u001b[38;5;124;03m\"\"\"\u001b[39;00m\n\u001b[0;32m    554\u001b[0m \u001b[38;5;124;03mCheck the length of data matches the length of the index.\u001b[39;00m\n\u001b[0;32m    555\u001b[0m \u001b[38;5;124;03m\"\"\"\u001b[39;00m\n\u001b[0;32m    556\u001b[0m \u001b[38;5;28;01mif\u001b[39;00m \u001b[38;5;28mlen\u001b[39m(data) \u001b[38;5;241m!=\u001b[39m \u001b[38;5;28mlen\u001b[39m(index):\n\u001b[1;32m--> 557\u001b[0m     \u001b[38;5;28;01mraise\u001b[39;00m \u001b[38;5;167;01mValueError\u001b[39;00m(\n\u001b[0;32m    558\u001b[0m         \u001b[38;5;124m\"\u001b[39m\u001b[38;5;124mLength of values \u001b[39m\u001b[38;5;124m\"\u001b[39m\n\u001b[0;32m    559\u001b[0m         \u001b[38;5;124mf\u001b[39m\u001b[38;5;124m\"\u001b[39m\u001b[38;5;124m(\u001b[39m\u001b[38;5;132;01m{\u001b[39;00m\u001b[38;5;28mlen\u001b[39m(data)\u001b[38;5;132;01m}\u001b[39;00m\u001b[38;5;124m) \u001b[39m\u001b[38;5;124m\"\u001b[39m\n\u001b[0;32m    560\u001b[0m         \u001b[38;5;124m\"\u001b[39m\u001b[38;5;124mdoes not match length of index \u001b[39m\u001b[38;5;124m\"\u001b[39m\n\u001b[0;32m    561\u001b[0m         \u001b[38;5;124mf\u001b[39m\u001b[38;5;124m\"\u001b[39m\u001b[38;5;124m(\u001b[39m\u001b[38;5;132;01m{\u001b[39;00m\u001b[38;5;28mlen\u001b[39m(index)\u001b[38;5;132;01m}\u001b[39;00m\u001b[38;5;124m)\u001b[39m\u001b[38;5;124m\"\u001b[39m\n\u001b[0;32m    562\u001b[0m     )\n",
      "\u001b[1;31mValueError\u001b[0m: Length of values (1) does not match length of index (6)"
     ]
    }
   ],
   "source": [
    "#from skfeature.function.similarity_based import fisher_score\n",
    "#ranks=fisher_score.fisher_score(X,Y)\n",
    "#feature_rank=pd.Series(ranks,X.columns)\n",
    "#plt.figure(figsize=(40,30))\n",
    "#feature_rank.plot(kind='barh',color='teal')\n",
    "#plt.show()"
   ]
  },
  {
   "cell_type": "code",
   "execution_count": 50,
   "id": "bfd5866d",
   "metadata": {},
   "outputs": [
    {
     "name": "stdout",
     "output_type": "stream",
     "text": [
      "Collecting featurewiz\n",
      "  Downloading featurewiz-0.4.8-py3-none-any.whl (120 kB)\n",
      "Collecting lightgbm>=3.2.1\n",
      "  Downloading lightgbm-4.1.0-py3-none-win_amd64.whl (1.3 MB)\n",
      "Requirement already satisfied: matplotlib in c:\\users\\divya chitransh\\anaconda3\\lib\\site-packages (from featurewiz) (3.5.1)\n",
      "Requirement already satisfied: distributed>=2021.11.0 in c:\\users\\divya chitransh\\anaconda3\\lib\\site-packages (from featurewiz) (2022.2.1)\n",
      "Collecting lazytransform>=1.10\n",
      "  Downloading lazytransform-1.10-py3-none-any.whl (57 kB)\n",
      "Requirement already satisfied: ipython in c:\\users\\divya chitransh\\anaconda3\\lib\\site-packages (from featurewiz) (8.2.0)\n",
      "Requirement already satisfied: tqdm>=4.61.1 in c:\\users\\divya chitransh\\anaconda3\\lib\\site-packages (from featurewiz) (4.64.0)\n",
      "Requirement already satisfied: category-encoders>=2.6.2 in c:\\users\\divya chitransh\\anaconda3\\lib\\site-packages (from featurewiz) (2.6.3)\n",
      "Requirement already satisfied: networkx>=2.6.2 in c:\\users\\divya chitransh\\anaconda3\\lib\\site-packages (from featurewiz) (2.7.1)\n",
      "Collecting feather-format>=0.4.1\n",
      "  Downloading feather-format-0.4.1.tar.gz (3.2 kB)\n",
      "Requirement already satisfied: dask>=2021.11.0 in c:\\users\\divya chitransh\\anaconda3\\lib\\site-packages (from featurewiz) (2022.2.1)\n",
      "Requirement already satisfied: Pillow>=9.0.0 in c:\\users\\divya chitransh\\anaconda3\\lib\\site-packages (from featurewiz) (9.0.1)\n",
      "Note: you may need to restart the kernel to use updated packages.Requirement already satisfied: fsspec>=0.3.3 in c:\\users\\divya chitransh\\anaconda3\\lib\\site-packages (from featurewiz) (2022.2.0)\n",
      "Requirement already satisfied: scikit-learn<=1.2.2,>=0.24 in c:\\users\\divya chitransh\\anaconda3\\lib\\site-packages (from featurewiz) (1.1.2)\n",
      "Requirement already satisfied: jupyter in c:\\users\\divya chitransh\\anaconda3\\lib\\site-packages (from featurewiz) (1.0.0)\n",
      "Requirement already satisfied: numexpr>=2.7.3 in c:\\users\\divya chitransh\\anaconda3\\lib\\site-packages (from featurewiz) (2.8.1)\n",
      "Requirement already satisfied: pandas<2.0,>=1.3.4 in c:\\users\\divya chitransh\\anaconda3\\lib\\site-packages (from featurewiz) (1.4.2)\n",
      "Collecting pyarrow>=7.0.0\n",
      "  Downloading pyarrow-14.0.2-cp39-cp39-win_amd64.whl (24.6 MB)\n",
      "Requirement already satisfied: seaborn in c:\\users\\divya chitransh\\anaconda3\\lib\\site-packages (from featurewiz) (0.11.2)\n",
      "Requirement already satisfied: xlrd>=2.0.0 in c:\\users\\divya chitransh\\anaconda3\\lib\\site-packages (from featurewiz) (2.0.1)\n",
      "Collecting xgboost<=1.6.2,>=1.5\n",
      "\n",
      "  Downloading xgboost-1.6.2-py3-none-win_amd64.whl (125.4 MB)\n",
      "Requirement already satisfied: statsmodels>=0.9.0 in c:\\users\\divya chitransh\\anaconda3\\lib\\site-packages (from category-encoders>=2.6.2->featurewiz) (0.13.2)\n",
      "Requirement already satisfied: patsy>=0.5.1 in c:\\users\\divya chitransh\\anaconda3\\lib\\site-packages (from category-encoders>=2.6.2->featurewiz) (0.5.2)\n",
      "Requirement already satisfied: numpy>=1.14.0 in c:\\users\\divya chitransh\\anaconda3\\lib\\site-packages (from category-encoders>=2.6.2->featurewiz) (1.21.5)\n",
      "Requirement already satisfied: scipy>=1.0.0 in c:\\users\\divya chitransh\\anaconda3\\lib\\site-packages (from category-encoders>=2.6.2->featurewiz) (1.7.3)\n",
      "Requirement already satisfied: pyyaml>=5.3.1 in c:\\users\\divya chitransh\\anaconda3\\lib\\site-packages (from dask>=2021.11.0->featurewiz) (6.0)\n",
      "Requirement already satisfied: toolz>=0.8.2 in c:\\users\\divya chitransh\\anaconda3\\lib\\site-packages (from dask>=2021.11.0->featurewiz) (0.11.2)\n",
      "Requirement already satisfied: packaging>=20.0 in c:\\users\\divya chitransh\\anaconda3\\lib\\site-packages (from dask>=2021.11.0->featurewiz) (21.3)\n",
      "Requirement already satisfied: cloudpickle>=1.1.1 in c:\\users\\divya chitransh\\anaconda3\\lib\\site-packages (from dask>=2021.11.0->featurewiz) (2.0.0)\n",
      "Requirement already satisfied: partd>=0.3.10 in c:\\users\\divya chitransh\\anaconda3\\lib\\site-packages (from dask>=2021.11.0->featurewiz) (1.2.0)\n",
      "Requirement already satisfied: jinja2 in c:\\users\\divya chitransh\\anaconda3\\lib\\site-packages (from distributed>=2021.11.0->featurewiz) (2.11.3)\n",
      "Requirement already satisfied: tornado>=6.0.3 in c:\\users\\divya chitransh\\anaconda3\\lib\\site-packages (from distributed>=2021.11.0->featurewiz) (6.1)\n",
      "Requirement already satisfied: msgpack>=0.6.0 in c:\\users\\divya chitransh\\anaconda3\\lib\\site-packages (from distributed>=2021.11.0->featurewiz) (1.0.2)\n",
      "Requirement already satisfied: psutil>=5.0 in c:\\users\\divya chitransh\\anaconda3\\lib\\site-packages (from distributed>=2021.11.0->featurewiz) (5.8.0)\n",
      "Requirement already satisfied: sortedcontainers!=2.0.0,!=2.0.1 in c:\\users\\divya chitransh\\anaconda3\\lib\\site-packages (from distributed>=2021.11.0->featurewiz) (2.4.0)\n",
      "Requirement already satisfied: zict>=0.1.3 in c:\\users\\divya chitransh\\anaconda3\\lib\\site-packages (from distributed>=2021.11.0->featurewiz) (2.0.0)\n",
      "Requirement already satisfied: setuptools in c:\\users\\divya chitransh\\anaconda3\\lib\\site-packages (from distributed>=2021.11.0->featurewiz) (61.2.0)\n",
      "Requirement already satisfied: click>=6.6 in c:\\users\\divya chitransh\\anaconda3\\lib\\site-packages (from distributed>=2021.11.0->featurewiz) (8.0.4)\n",
      "Requirement already satisfied: tblib>=1.6.0 in c:\\users\\divya chitransh\\anaconda3\\lib\\site-packages (from distributed>=2021.11.0->featurewiz) (1.7.0)\n",
      "Requirement already satisfied: colorama in c:\\users\\divya chitransh\\anaconda3\\lib\\site-packages (from click>=6.6->distributed>=2021.11.0->featurewiz) (0.4.4)\n",
      "Requirement already satisfied: python-dateutil>=2.8.1 in c:\\users\\divya chitransh\\anaconda3\\lib\\site-packages (from lazytransform>=1.10->featurewiz) (2.8.2)\n",
      "Requirement already satisfied: pyparsing>=2.2.1 in c:\\users\\divya chitransh\\anaconda3\\lib\\site-packages (from matplotlib->featurewiz) (3.0.4)\n",
      "Requirement already satisfied: fonttools>=4.22.0 in c:\\users\\divya chitransh\\anaconda3\\lib\\site-packages (from matplotlib->featurewiz) (4.25.0)\n",
      "Requirement already satisfied: kiwisolver>=1.0.1 in c:\\users\\divya chitransh\\anaconda3\\lib\\site-packages (from matplotlib->featurewiz) (1.3.2)\n",
      "Requirement already satisfied: cycler>=0.10 in c:\\users\\divya chitransh\\anaconda3\\lib\\site-packages (from matplotlib->featurewiz) (0.11.0)\n",
      "Requirement already satisfied: pytz>=2020.1 in c:\\users\\divya chitransh\\anaconda3\\lib\\site-packages (from pandas<2.0,>=1.3.4->featurewiz) (2021.3)\n",
      "Requirement already satisfied: locket in c:\\users\\divya chitransh\\anaconda3\\lib\\site-packages (from partd>=0.3.10->dask>=2021.11.0->featurewiz) (0.2.1)\n",
      "Requirement already satisfied: six in c:\\users\\divya chitransh\\anaconda3\\lib\\site-packages (from patsy>=0.5.1->category-encoders>=2.6.2->featurewiz) (1.16.0)\n",
      "Requirement already satisfied: joblib>=1.0.0 in c:\\users\\divya chitransh\\anaconda3\\lib\\site-packages (from scikit-learn<=1.2.2,>=0.24->featurewiz) (1.3.2)\n",
      "Requirement already satisfied: threadpoolctl>=2.0.0 in c:\\users\\divya chitransh\\anaconda3\\lib\\site-packages (from scikit-learn<=1.2.2,>=0.24->featurewiz) (2.2.0)\n",
      "Requirement already satisfied: heapdict in c:\\users\\divya chitransh\\anaconda3\\lib\\site-packages (from zict>=0.1.3->distributed>=2021.11.0->featurewiz) (1.0.1)\n",
      "Requirement already satisfied: decorator in c:\\users\\divya chitransh\\anaconda3\\lib\\site-packages (from ipython->featurewiz) (5.1.1)\n",
      "Requirement already satisfied: pickleshare in c:\\users\\divya chitransh\\anaconda3\\lib\\site-packages (from ipython->featurewiz) (0.7.5)\n",
      "Requirement already satisfied: jedi>=0.16 in c:\\users\\divya chitransh\\anaconda3\\lib\\site-packages (from ipython->featurewiz) (0.18.1)\n",
      "Requirement already satisfied: traitlets>=5 in c:\\users\\divya chitransh\\anaconda3\\lib\\site-packages (from ipython->featurewiz) (5.1.1)\n",
      "Requirement already satisfied: pygments>=2.4.0 in c:\\users\\divya chitransh\\anaconda3\\lib\\site-packages (from ipython->featurewiz) (2.11.2)\n",
      "Requirement already satisfied: stack-data in c:\\users\\divya chitransh\\anaconda3\\lib\\site-packages (from ipython->featurewiz) (0.2.0)\n",
      "Requirement already satisfied: prompt-toolkit!=3.0.0,!=3.0.1,<3.1.0,>=2.0.0 in c:\\users\\divya chitransh\\anaconda3\\lib\\site-packages (from ipython->featurewiz) (3.0.20)\n",
      "Requirement already satisfied: matplotlib-inline in c:\\users\\divya chitransh\\anaconda3\\lib\\site-packages (from ipython->featurewiz) (0.1.2)\n",
      "Requirement already satisfied: backcall in c:\\users\\divya chitransh\\anaconda3\\lib\\site-packages (from ipython->featurewiz) (0.2.0)\n",
      "Requirement already satisfied: parso<0.9.0,>=0.8.0 in c:\\users\\divya chitransh\\anaconda3\\lib\\site-packages (from jedi>=0.16->ipython->featurewiz) (0.8.3)\n",
      "Requirement already satisfied: wcwidth in c:\\users\\divya chitransh\\anaconda3\\lib\\site-packages (from prompt-toolkit!=3.0.0,!=3.0.1,<3.1.0,>=2.0.0->ipython->featurewiz) (0.2.5)\n",
      "Requirement already satisfied: MarkupSafe>=0.23 in c:\\users\\divya chitransh\\anaconda3\\lib\\site-packages (from jinja2->distributed>=2021.11.0->featurewiz) (2.0.1)\n",
      "Requirement already satisfied: qtconsole in c:\\users\\divya chitransh\\anaconda3\\lib\\site-packages (from jupyter->featurewiz) (5.3.0)\n",
      "Requirement already satisfied: nbconvert in c:\\users\\divya chitransh\\anaconda3\\lib\\site-packages (from jupyter->featurewiz) (6.4.4)\n",
      "Requirement already satisfied: notebook in c:\\users\\divya chitransh\\anaconda3\\lib\\site-packages (from jupyter->featurewiz) (6.4.8)\n",
      "Requirement already satisfied: ipywidgets in c:\\users\\divya chitransh\\anaconda3\\lib\\site-packages (from jupyter->featurewiz) (7.6.5)\n",
      "Requirement already satisfied: jupyter-console in c:\\users\\divya chitransh\\anaconda3\\lib\\site-packages (from jupyter->featurewiz) (6.4.0)\n",
      "Requirement already satisfied: ipykernel in c:\\users\\divya chitransh\\anaconda3\\lib\\site-packages (from jupyter->featurewiz) (6.9.1)\n",
      "Requirement already satisfied: debugpy<2.0,>=1.0.0 in c:\\users\\divya chitransh\\anaconda3\\lib\\site-packages (from ipykernel->jupyter->featurewiz) (1.5.1)\n",
      "Requirement already satisfied: nest-asyncio in c:\\users\\divya chitransh\\anaconda3\\lib\\site-packages (from ipykernel->jupyter->featurewiz) (1.5.5)\n",
      "Requirement already satisfied: jupyter-client<8.0 in c:\\users\\divya chitransh\\anaconda3\\lib\\site-packages (from ipykernel->jupyter->featurewiz) (6.1.12)\n",
      "Requirement already satisfied: jupyter-core>=4.6.0 in c:\\users\\divya chitransh\\anaconda3\\lib\\site-packages (from jupyter-client<8.0->ipykernel->jupyter->featurewiz) (4.9.2)\n",
      "Requirement already satisfied: pyzmq>=13 in c:\\users\\divya chitransh\\anaconda3\\lib\\site-packages (from jupyter-client<8.0->ipykernel->jupyter->featurewiz) (22.3.0)\n",
      "Requirement already satisfied: pywin32>=1.0 in c:\\users\\divya chitransh\\anaconda3\\lib\\site-packages (from jupyter-core>=4.6.0->jupyter-client<8.0->ipykernel->jupyter->featurewiz) (302)\n",
      "Requirement already satisfied: ipython-genutils~=0.2.0 in c:\\users\\divya chitransh\\anaconda3\\lib\\site-packages (from ipywidgets->jupyter->featurewiz) (0.2.0)\n",
      "Requirement already satisfied: nbformat>=4.2.0 in c:\\users\\divya chitransh\\anaconda3\\lib\\site-packages (from ipywidgets->jupyter->featurewiz) (5.3.0)\n",
      "Requirement already satisfied: widgetsnbextension~=3.5.0 in c:\\users\\divya chitransh\\anaconda3\\lib\\site-packages (from ipywidgets->jupyter->featurewiz) (3.5.2)\n",
      "Requirement already satisfied: jupyterlab-widgets>=1.0.0 in c:\\users\\divya chitransh\\anaconda3\\lib\\site-packages (from ipywidgets->jupyter->featurewiz) (1.0.0)\n",
      "Requirement already satisfied: jsonschema>=2.6 in c:\\users\\divya chitransh\\anaconda3\\lib\\site-packages (from nbformat>=4.2.0->ipywidgets->jupyter->featurewiz) (4.4.0)\n",
      "Requirement already satisfied: fastjsonschema in c:\\users\\divya chitransh\\anaconda3\\lib\\site-packages (from nbformat>=4.2.0->ipywidgets->jupyter->featurewiz) (2.15.1)\n",
      "Requirement already satisfied: pyrsistent!=0.17.0,!=0.17.1,!=0.17.2,>=0.14.0 in c:\\users\\divya chitransh\\anaconda3\\lib\\site-packages (from jsonschema>=2.6->nbformat>=4.2.0->ipywidgets->jupyter->featurewiz) (0.18.0)\n",
      "Requirement already satisfied: attrs>=17.4.0 in c:\\users\\divya chitransh\\anaconda3\\lib\\site-packages (from jsonschema>=2.6->nbformat>=4.2.0->ipywidgets->jupyter->featurewiz) (21.4.0)\n",
      "Requirement already satisfied: terminado>=0.8.3 in c:\\users\\divya chitransh\\anaconda3\\lib\\site-packages (from notebook->jupyter->featurewiz) (0.13.1)\n",
      "Requirement already satisfied: prometheus-client in c:\\users\\divya chitransh\\anaconda3\\lib\\site-packages (from notebook->jupyter->featurewiz) (0.13.1)\n",
      "Requirement already satisfied: Send2Trash>=1.8.0 in c:\\users\\divya chitransh\\anaconda3\\lib\\site-packages (from notebook->jupyter->featurewiz) (1.8.0)\n",
      "Requirement already satisfied: argon2-cffi in c:\\users\\divya chitransh\\anaconda3\\lib\\site-packages (from notebook->jupyter->featurewiz) (21.3.0)\n",
      "Requirement already satisfied: pywinpty>=1.1.0 in c:\\users\\divya chitransh\\anaconda3\\lib\\site-packages (from terminado>=0.8.3->notebook->jupyter->featurewiz) (2.0.2)\n",
      "Requirement already satisfied: argon2-cffi-bindings in c:\\users\\divya chitransh\\anaconda3\\lib\\site-packages (from argon2-cffi->notebook->jupyter->featurewiz) (21.2.0)\n",
      "Requirement already satisfied: cffi>=1.0.1 in c:\\users\\divya chitransh\\anaconda3\\lib\\site-packages (from argon2-cffi-bindings->argon2-cffi->notebook->jupyter->featurewiz) (1.15.0)\n",
      "Requirement already satisfied: pycparser in c:\\users\\divya chitransh\\anaconda3\\lib\\site-packages (from cffi>=1.0.1->argon2-cffi-bindings->argon2-cffi->notebook->jupyter->featurewiz) (2.21)\n",
      "Requirement already satisfied: jupyterlab-pygments in c:\\users\\divya chitransh\\anaconda3\\lib\\site-packages (from nbconvert->jupyter->featurewiz) (0.1.2)\n",
      "Requirement already satisfied: bleach in c:\\users\\divya chitransh\\anaconda3\\lib\\site-packages (from nbconvert->jupyter->featurewiz) (4.1.0)\n",
      "Requirement already satisfied: entrypoints>=0.2.2 in c:\\users\\divya chitransh\\anaconda3\\lib\\site-packages (from nbconvert->jupyter->featurewiz) (0.4)\n",
      "Requirement already satisfied: defusedxml in c:\\users\\divya chitransh\\anaconda3\\lib\\site-packages (from nbconvert->jupyter->featurewiz) (0.7.1)\n",
      "Requirement already satisfied: nbclient<0.6.0,>=0.5.0 in c:\\users\\divya chitransh\\anaconda3\\lib\\site-packages (from nbconvert->jupyter->featurewiz) (0.5.13)\n",
      "Requirement already satisfied: testpath in c:\\users\\divya chitransh\\anaconda3\\lib\\site-packages (from nbconvert->jupyter->featurewiz) (0.5.0)\n",
      "Requirement already satisfied: beautifulsoup4 in c:\\users\\divya chitransh\\anaconda3\\lib\\site-packages (from nbconvert->jupyter->featurewiz) (4.11.1)\n",
      "Requirement already satisfied: mistune<2,>=0.8.1 in c:\\users\\divya chitransh\\anaconda3\\lib\\site-packages (from nbconvert->jupyter->featurewiz) (0.8.4)\n",
      "Requirement already satisfied: pandocfilters>=1.4.1 in c:\\users\\divya chitransh\\anaconda3\\lib\\site-packages (from nbconvert->jupyter->featurewiz) (1.5.0)\n",
      "Requirement already satisfied: soupsieve>1.2 in c:\\users\\divya chitransh\\anaconda3\\lib\\site-packages (from beautifulsoup4->nbconvert->jupyter->featurewiz) (2.3.1)\n",
      "Requirement already satisfied: webencodings in c:\\users\\divya chitransh\\anaconda3\\lib\\site-packages (from bleach->nbconvert->jupyter->featurewiz) (0.5.1)\n",
      "Requirement already satisfied: qtpy>=2.0.1 in c:\\users\\divya chitransh\\anaconda3\\lib\\site-packages (from qtconsole->jupyter->featurewiz) (2.0.1)\n",
      "Requirement already satisfied: asttokens in c:\\users\\divya chitransh\\anaconda3\\lib\\site-packages (from stack-data->ipython->featurewiz) (2.0.5)\n",
      "Requirement already satisfied: pure-eval in c:\\users\\divya chitransh\\anaconda3\\lib\\site-packages (from stack-data->ipython->featurewiz) (0.2.2)\n",
      "Requirement already satisfied: executing in c:\\users\\divya chitransh\\anaconda3\\lib\\site-packages (from stack-data->ipython->featurewiz) (0.8.3)\n",
      "Building wheels for collected packages: feather-format\n",
      "  Building wheel for feather-format (setup.py): started\n",
      "  Building wheel for feather-format (setup.py): finished with status 'done'\n",
      "  Created wheel for feather-format: filename=feather_format-0.4.1-py3-none-any.whl size=2457 sha256=3ce4934b170202aa09add24bd67d68b67afc73ef718ff2938d08a4e172fc4bc8\n",
      "  Stored in directory: c:\\users\\divya chitransh\\appdata\\local\\pip\\cache\\wheels\\e3\\dc\\eb\\3a9468e9322c8284d7a53eab23e7a4bab6f271fff7a5871e2f\n",
      "Successfully built feather-format\n",
      "Installing collected packages: pyarrow, lightgbm, xgboost, lazytransform, feather-format, featurewiz\n",
      "Successfully installed feather-format-0.4.1 featurewiz-0.4.8 lazytransform-1.10 lightgbm-4.1.0 pyarrow-14.0.2 xgboost-1.6.2\n"
     ]
    }
   ],
   "source": [
    "pip install featurewiz"
   ]
  },
  {
   "cell_type": "code",
   "execution_count": 54,
   "id": "cff8fe60",
   "metadata": {},
   "outputs": [
    {
     "name": "stdout",
     "output_type": "stream",
     "text": [
      "featurewiz is given 0.5 as correlation limit...\n",
      "    Skipping feature engineering since no feature_engg input...\n",
      "    final list of category encoders given: ['label', 'label']\n"
     ]
    }
   ],
   "source": [
    "from featurewiz import FeatureWiz\n",
    "fwiz = FeatureWiz(corr_limit=0.50, feature_engg='', category_encoders='', dask_xgboost_flag=False, nrows=None, verbose=2)"
   ]
  },
  {
   "cell_type": "code",
   "execution_count": 55,
   "id": "74aed3f8",
   "metadata": {},
   "outputs": [
    {
     "name": "stdout",
     "output_type": "stream",
     "text": [
      "Loaded input data. Shape = (1070, 6)\n",
      "    selecting 6 numeric features for further processing...\n",
      "#### Starting featurewiz transform for train data ####\n",
      "    Regression models don't need targets to be transformed to numeric...\n",
      "    Single_Label Regression problem \n",
      "Shape of dataset: (1070, 6). Now we classify variables into different types...\n",
      "    Returning dictionary for variable types with following keys:\n",
      "                        continuous_vars = 3, int_vars = 3, \n",
      "                        discrete_string_vars = 0, nlp_vars = 0,\n",
      "                        date_vars = 0, time_deltas = 0,\n",
      "                        categorical_vars = 0, date_zones = 0\n",
      "    no date time variables detected in this dataset\n",
      "label encoder selected for transforming all categorical variables\n",
      "Using My_LabelEncoder() and My_LabelEncoder() as encoders\n",
      "    alert: there is no scaler specified. Options are: max, std, robust, maxabs.\n",
      "Check the pipeline creation statement for errors (if any):\n",
      "\tmake_column_transformer((imp, intvars),(imp, floatvars),    remainder=remainder)\n",
      "    no other vars left in dataset to transform...\n",
      "Time taken to define data pipeline = 1 second(s)\n",
      "No model input given...\n",
      "Lazy Transformer Pipeline created...\n",
      "    Time taken to fit dataset = 1 second(s)\n",
      "    Time taken to transform dataset = 1 second(s)\n",
      "    Shape of transformed dataset: (1070, 6)\n",
      "    Single_Label Regression problem \n",
      "#######################################################################################\n",
      "#####  Searching for Uncorrelated List Of Variables (SULOV) in 6 features ############\n",
      "#######################################################################################\n",
      "Starting SULOV with 6 features...\n",
      "    Selecting all (6) variables since none of numeric vars are highly correlated...\n",
      "Performing recursive XGBoost feature selection from 6 features...\n",
      "    Taking top 2 features per iteration...\n",
      "    Number of booster rounds = 100\n",
      "        Selected: ['smoker', 'bmi']\n",
      "            Time taken for regular XGBoost feature selection = 0 seconds\n",
      "        Selected: ['age', 'bmi']\n",
      "            Time taken for regular XGBoost feature selection = 0 seconds\n",
      "        Selected: ['age', 'bmi']\n",
      "            Time taken for regular XGBoost feature selection = 0 seconds\n"
     ]
    },
    {
     "data": {
      "image/png": "[encoded data removed]",
      "text/plain": [
       "<Figure size 720x720 with 4 Axes>"
      ]
     },
     "metadata": {},
     "output_type": "display_data"
    },
    {
     "name": "stdout",
     "output_type": "stream",
     "text": [
      "    time taken to run entire featurewiz = 1 second(s)\n",
      "Recursive XGBoost selected 3 features...\n",
      "#### Starting featurewiz transform for test data ####\n",
      "Loaded input data. Shape = (268, 6)\n",
      "#### Starting lazytransform for test data ####\n",
      "    Time taken to transform dataset = 1 second(s)\n",
      "    Shape of transformed dataset: (268, 6)\n",
      "Returning dataframe with 3 features \n"
     ]
    },
    {
     "data": {
      "text/plain": [
       "['smoker', 'bmi', 'age']"
      ]
     },
     "execution_count": 55,
     "metadata": {},
     "output_type": "execute_result"
    }
   ],
   "source": [
    "X_train_selected = fwiz.fit_transform(X_train, Y_train)\n",
    "X_test_selected = fwiz.transform(X_test)\n",
    "### get list of selected features ###\n",
    "fwiz.features  "
   ]
  },
  {
   "cell_type": "code",
   "execution_count": 58,
   "id": "01f90ee9",
   "metadata": {},
   "outputs": [
    {
     "data": {
      "text/plain": [
       "(      smoker       bmi       age\n",
       " 882        1  0.166129  0.134635\n",
       " 505        1  0.401264  0.456957\n",
       " 798        1  0.461125  0.887387\n",
       " 792        1  0.194243  0.155155\n",
       " 201        1  0.437719  0.680681\n",
       " ...      ...       ...       ...\n",
       " 466        1  0.342750  0.923924\n",
       " 299        1  0.347592  0.680681\n",
       " 493        1  0.738230  0.940941\n",
       " 527        1  0.264730  0.744745\n",
       " 1192       1  0.442158  0.887387\n",
       " \n",
       " [1070 rows x 3 columns],\n",
       " 882      2585.85065\n",
       " 505      6796.86325\n",
       " 798     11848.14100\n",
       " 792      2731.91220\n",
       " 201      8871.15170\n",
       "            ...     \n",
       " 466     13224.69300\n",
       " 299      9249.49520\n",
       " 493     12574.04900\n",
       " 527      9861.02500\n",
       " 1192    13019.16105\n",
       " Name: charges, Length: 1070, dtype: float64)"
      ]
     },
     "execution_count": 58,
     "metadata": {},
     "output_type": "execute_result"
    }
   ],
   "source": [
    "X_train_selected"
   ]
  },
  {
   "cell_type": "markdown",
   "id": "1c104118",
   "metadata": {},
   "source": [
    "Model Training and linear regression"
   ]
  },
  {
   "cell_type": "code",
   "execution_count": 59,
   "id": "3c9cc6b8",
   "metadata": {},
   "outputs": [
    {
     "data": {
      "text/html": [
       "<div>\n",
       "<style scoped>\n",
       "    .dataframe tbody tr th:only-of-type {\n",
       "        vertical-align: middle;\n",
       "    }\n",
       "\n",
       "    .dataframe tbody tr th {\n",
       "        vertical-align: top;\n",
       "    }\n",
       "\n",
       "    .dataframe thead th {\n",
       "        text-align: right;\n",
       "    }\n",
       "</style>\n",
       "<table border=\"1\" class=\"dataframe\">\n",
       "  <thead>\n",
       "    <tr style=\"text-align: right;\">\n",
       "      <th></th>\n",
       "      <th>smoker</th>\n",
       "      <th>bmi</th>\n",
       "      <th>age</th>\n",
       "    </tr>\n",
       "  </thead>\n",
       "  <tbody>\n",
       "    <tr>\n",
       "      <th>0</th>\n",
       "      <td>0</td>\n",
       "      <td>0.321227</td>\n",
       "      <td>0.076577</td>\n",
       "    </tr>\n",
       "    <tr>\n",
       "      <th>1</th>\n",
       "      <td>1</td>\n",
       "      <td>0.479150</td>\n",
       "      <td>0.000000</td>\n",
       "    </tr>\n",
       "    <tr>\n",
       "      <th>2</th>\n",
       "      <td>1</td>\n",
       "      <td>0.458434</td>\n",
       "      <td>0.280781</td>\n",
       "    </tr>\n",
       "    <tr>\n",
       "      <th>3</th>\n",
       "      <td>1</td>\n",
       "      <td>0.181464</td>\n",
       "      <td>0.381381</td>\n",
       "    </tr>\n",
       "    <tr>\n",
       "      <th>4</th>\n",
       "      <td>1</td>\n",
       "      <td>0.347592</td>\n",
       "      <td>0.361361</td>\n",
       "    </tr>\n",
       "    <tr>\n",
       "      <th>...</th>\n",
       "      <td>...</td>\n",
       "      <td>...</td>\n",
       "      <td>...</td>\n",
       "    </tr>\n",
       "    <tr>\n",
       "      <th>1333</th>\n",
       "      <td>1</td>\n",
       "      <td>0.403820</td>\n",
       "      <td>0.723223</td>\n",
       "    </tr>\n",
       "    <tr>\n",
       "      <th>1334</th>\n",
       "      <td>1</td>\n",
       "      <td>0.429379</td>\n",
       "      <td>0.000000</td>\n",
       "    </tr>\n",
       "    <tr>\n",
       "      <th>1335</th>\n",
       "      <td>1</td>\n",
       "      <td>0.562012</td>\n",
       "      <td>0.000000</td>\n",
       "    </tr>\n",
       "    <tr>\n",
       "      <th>1336</th>\n",
       "      <td>1</td>\n",
       "      <td>0.264730</td>\n",
       "      <td>0.134635</td>\n",
       "    </tr>\n",
       "    <tr>\n",
       "      <th>1337</th>\n",
       "      <td>0</td>\n",
       "      <td>0.352704</td>\n",
       "      <td>0.940941</td>\n",
       "    </tr>\n",
       "  </tbody>\n",
       "</table>\n",
       "<p>1338 rows × 3 columns</p>\n",
       "</div>"
      ],
      "text/plain": [
       "      smoker       bmi       age\n",
       "0          0  0.321227  0.076577\n",
       "1          1  0.479150  0.000000\n",
       "2          1  0.458434  0.280781\n",
       "3          1  0.181464  0.381381\n",
       "4          1  0.347592  0.361361\n",
       "...      ...       ...       ...\n",
       "1333       1  0.403820  0.723223\n",
       "1334       1  0.429379  0.000000\n",
       "1335       1  0.562012  0.000000\n",
       "1336       1  0.264730  0.134635\n",
       "1337       0  0.352704  0.940941\n",
       "\n",
       "[1338 rows x 3 columns]"
      ]
     },
     "execution_count": 59,
     "metadata": {},
     "output_type": "execute_result"
    }
   ],
   "source": [
    "X_new=X.loc[:,['smoker', 'bmi', 'age']]\n",
    "X_new"
   ]
  },
  {
   "cell_type": "code",
   "execution_count": 60,
   "id": "568e8c8e",
   "metadata": {},
   "outputs": [],
   "source": [
    "X_train_new, X_test_new, Y_train_new, Y_test_new = train_test_split(X_new, Y, test_size=0.2, random_state=2)"
   ]
  },
  {
   "cell_type": "code",
   "execution_count": 61,
   "id": "9b4b2c1c",
   "metadata": {},
   "outputs": [],
   "source": [
    "# loading the Linear Regression model\n",
    "regressor = LinearRegression()"
   ]
  },
  {
   "cell_type": "code",
   "execution_count": 62,
   "id": "391ce07e",
   "metadata": {},
   "outputs": [],
   "source": [
    "#from mlxtend.feature_selection import SequentialFeatureSelector\n",
    "#ffs=SequentialFeatureSelector(regressor,k_features='best', forward=True,n_jobs=-1)\n",
    "#ffs.fit(X,Y)\n",
    "#features=list(ffs.k_feature_names_)\n",
    "#features"
   ]
  },
  {
   "cell_type": "code",
   "execution_count": 63,
   "id": "dfc3be50",
   "metadata": {},
   "outputs": [],
   "source": [
    "#features=list(map(int,features))\n",
    "#regressor.fit(X_train[features],Y_train)\n",
    "#y_pre=regressor.predict(X_train[features])"
   ]
  },
  {
   "cell_type": "code",
   "execution_count": 64,
   "id": "49685ea3",
   "metadata": {},
   "outputs": [
    {
     "data": {
      "text/plain": [
       "LinearRegression()"
      ]
     },
     "execution_count": 64,
     "metadata": {},
     "output_type": "execute_result"
    }
   ],
   "source": [
    "regressor.fit(X_train_new, Y_train_new)"
   ]
  },
  {
   "cell_type": "markdown",
   "id": "475a2f9e",
   "metadata": {},
   "source": [
    "model evaluation"
   ]
  },
  {
   "cell_type": "code",
   "execution_count": 66,
   "id": "ccea9497",
   "metadata": {},
   "outputs": [],
   "source": [
    "# prediction on training data\n",
    "training_data_prediction =regressor.predict(X_train_new)"
   ]
  },
  {
   "cell_type": "code",
   "execution_count": 67,
   "id": "4903a2e8",
   "metadata": {},
   "outputs": [
    {
     "name": "stdout",
     "output_type": "stream",
     "text": [
      "R squared vale :  0.7478308840164114\n"
     ]
    }
   ],
   "source": [
    "# R squared value\n",
    "r2_train = metrics.r2_score(Y_train_new, training_data_prediction)\n",
    "print('R squared vale : ', r2_train)"
   ]
  },
  {
   "cell_type": "code",
   "execution_count": 68,
   "id": "118df979",
   "metadata": {},
   "outputs": [],
   "source": [
    "# prediction on test data\n",
    "test_data_prediction =regressor.predict(X_test_new)"
   ]
  },
  {
   "cell_type": "code",
   "execution_count": 69,
   "id": "da555d70",
   "metadata": {},
   "outputs": [
    {
     "name": "stdout",
     "output_type": "stream",
     "text": [
      "R squared vale :  0.7445445454116983\n"
     ]
    }
   ],
   "source": [
    "# R squared value\n",
    "r2_test = metrics.r2_score(Y_test_new, test_data_prediction)\n",
    "print('R squared vale : ', r2_test)"
   ]
  },
  {
   "cell_type": "markdown",
   "id": "c4c3fb87",
   "metadata": {},
   "source": [
    "build a predictive system"
   ]
  },
  {
   "cell_type": "code",
   "execution_count": 74,
   "id": "3f81eb89",
   "metadata": {},
   "outputs": [
    {
     "name": "stdout",
     "output_type": "stream",
     "text": [
      "[683742.54691628]\n",
      "The insurance cost is USD  683742.5469162773\n"
     ]
    }
   ],
   "source": [
    "input_data = (1,25.74,31)\n",
    "\n",
    "# changing input_data to a numpy array\n",
    "input_data_as_numpy_array = np.asarray(input_data)\n",
    "\n",
    "# reshape the array\n",
    "input_data_reshaped = input_data_as_numpy_array.reshape(1,-1)\n",
    "\n",
    "prediction = regressor.predict(input_data_reshaped)\n",
    "print(prediction)\n",
    "\n",
    "print('The insurance cost is USD ', prediction[0])"
   ]
  },
  {
   "cell_type": "code",
   "execution_count": null,
   "id": "6e8e1c61",
   "metadata": {},
   "outputs": [],
   "source": []
  }
 ],
 "metadata": {
  "kernelspec": {
   "display_name": "Python 3 (ipykernel)",
   "language": "python",
   "name": "python3"
  },
  "language_info": {
   "codemirror_mode": {
    "name": "ipython",
    "version": 3
   },
   "file_extension": ".py",
   "mimetype": "text/x-python",
   "name": "python",
   "nbconvert_exporter": "python",
   "pygments_lexer": "ipython3",
   "version": "3.9.12"
  }
 },
 "nbformat": 4,
 "nbformat_minor": 5
}
